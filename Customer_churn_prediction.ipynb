{
  "nbformat": 4,
  "nbformat_minor": 0,
  "metadata": {
    "kernelspec": {
      "display_name": "Python 3",
      "language": "python",
      "name": "python3"
    },
    "language_info": {
      "codemirror_mode": {
        "name": "ipython",
        "version": 3
      },
      "file_extension": ".py",
      "mimetype": "text/x-python",
      "name": "python",
      "nbconvert_exporter": "python",
      "pygments_lexer": "ipython3",
      "version": "3.7.2"
    },
    "colab": {
      "name": "Customer_churn_prediction.ipynb",
      "provenance": [],
      "toc_visible": true,
      "include_colab_link": true
    }
  },
  "cells": [
    {
      "cell_type": "markdown",
      "metadata": {
        "id": "view-in-github",
        "colab_type": "text"
      },
      "source": [
        "<a href=\"https://colab.research.google.com/github/anamika2000/Customer-churn-prediction/blob/main/Customer_churn_prediction.ipynb\" target=\"_parent\"><img src=\"https://colab.research.google.com/assets/colab-badge.svg\" alt=\"Open In Colab\"/></a>"
      ]
    },
    {
      "cell_type": "markdown",
      "metadata": {
        "id": "q9WyEyDa8OdT"
      },
      "source": [
        "### Importing the data"
      ]
    },
    {
      "cell_type": "code",
      "metadata": {
        "id": "fM8ALO3L8OdT"
      },
      "source": [
        "import pandas as pd\n",
        "import numpy as np\n",
        "import matplotlib.pyplot as plt\n",
        "import seaborn as sns\n"
      ],
      "execution_count": null,
      "outputs": []
    },
    {
      "cell_type": "code",
      "metadata": {
        "colab": {
          "base_uri": "https://localhost:8080/",
          "height": 299
        },
        "id": "f6l7M3EaBsv2",
        "outputId": "e93c6bbc-bd60-4cb3-de11-0ff699bf6517"
      },
      "source": [
        "data=pd.read_csv('Churn.csv')\n",
        "data.head()"
      ],
      "execution_count": null,
      "outputs": [
        {
          "output_type": "execute_result",
          "data": {
            "text/html": [
              "<div>\n",
              "<style scoped>\n",
              "    .dataframe tbody tr th:only-of-type {\n",
              "        vertical-align: middle;\n",
              "    }\n",
              "\n",
              "    .dataframe tbody tr th {\n",
              "        vertical-align: top;\n",
              "    }\n",
              "\n",
              "    .dataframe thead th {\n",
              "        text-align: right;\n",
              "    }\n",
              "</style>\n",
              "<table border=\"1\" class=\"dataframe\">\n",
              "  <thead>\n",
              "    <tr style=\"text-align: right;\">\n",
              "      <th></th>\n",
              "      <th>customerID</th>\n",
              "      <th>gender</th>\n",
              "      <th>SeniorCitizen</th>\n",
              "      <th>Partner</th>\n",
              "      <th>Dependents</th>\n",
              "      <th>tenure</th>\n",
              "      <th>PhoneService</th>\n",
              "      <th>MultipleLines</th>\n",
              "      <th>InternetService</th>\n",
              "      <th>OnlineSecurity</th>\n",
              "      <th>OnlineBackup</th>\n",
              "      <th>DeviceProtection</th>\n",
              "      <th>TechSupport</th>\n",
              "      <th>StreamingTV</th>\n",
              "      <th>StreamingMovies</th>\n",
              "      <th>Contract</th>\n",
              "      <th>PaperlessBilling</th>\n",
              "      <th>PaymentMethod</th>\n",
              "      <th>MonthlyCharges</th>\n",
              "      <th>TotalCharges</th>\n",
              "      <th>Churn</th>\n",
              "    </tr>\n",
              "  </thead>\n",
              "  <tbody>\n",
              "    <tr>\n",
              "      <th>0</th>\n",
              "      <td>7590-VHVEG</td>\n",
              "      <td>Female</td>\n",
              "      <td>0</td>\n",
              "      <td>Yes</td>\n",
              "      <td>No</td>\n",
              "      <td>1</td>\n",
              "      <td>No</td>\n",
              "      <td>No phone service</td>\n",
              "      <td>DSL</td>\n",
              "      <td>No</td>\n",
              "      <td>Yes</td>\n",
              "      <td>No</td>\n",
              "      <td>No</td>\n",
              "      <td>No</td>\n",
              "      <td>No</td>\n",
              "      <td>Month-to-month</td>\n",
              "      <td>Yes</td>\n",
              "      <td>Electronic check</td>\n",
              "      <td>29.85</td>\n",
              "      <td>29.85</td>\n",
              "      <td>No</td>\n",
              "    </tr>\n",
              "    <tr>\n",
              "      <th>1</th>\n",
              "      <td>5575-GNVDE</td>\n",
              "      <td>Male</td>\n",
              "      <td>0</td>\n",
              "      <td>No</td>\n",
              "      <td>No</td>\n",
              "      <td>34</td>\n",
              "      <td>Yes</td>\n",
              "      <td>No</td>\n",
              "      <td>DSL</td>\n",
              "      <td>Yes</td>\n",
              "      <td>No</td>\n",
              "      <td>Yes</td>\n",
              "      <td>No</td>\n",
              "      <td>No</td>\n",
              "      <td>No</td>\n",
              "      <td>One year</td>\n",
              "      <td>No</td>\n",
              "      <td>Mailed check</td>\n",
              "      <td>56.95</td>\n",
              "      <td>1889.5</td>\n",
              "      <td>No</td>\n",
              "    </tr>\n",
              "    <tr>\n",
              "      <th>2</th>\n",
              "      <td>3668-QPYBK</td>\n",
              "      <td>Male</td>\n",
              "      <td>0</td>\n",
              "      <td>No</td>\n",
              "      <td>No</td>\n",
              "      <td>2</td>\n",
              "      <td>Yes</td>\n",
              "      <td>No</td>\n",
              "      <td>DSL</td>\n",
              "      <td>Yes</td>\n",
              "      <td>Yes</td>\n",
              "      <td>No</td>\n",
              "      <td>No</td>\n",
              "      <td>No</td>\n",
              "      <td>No</td>\n",
              "      <td>Month-to-month</td>\n",
              "      <td>Yes</td>\n",
              "      <td>Mailed check</td>\n",
              "      <td>53.85</td>\n",
              "      <td>108.15</td>\n",
              "      <td>Yes</td>\n",
              "    </tr>\n",
              "    <tr>\n",
              "      <th>3</th>\n",
              "      <td>7795-CFOCW</td>\n",
              "      <td>Male</td>\n",
              "      <td>0</td>\n",
              "      <td>No</td>\n",
              "      <td>No</td>\n",
              "      <td>45</td>\n",
              "      <td>No</td>\n",
              "      <td>No phone service</td>\n",
              "      <td>DSL</td>\n",
              "      <td>Yes</td>\n",
              "      <td>No</td>\n",
              "      <td>Yes</td>\n",
              "      <td>Yes</td>\n",
              "      <td>No</td>\n",
              "      <td>No</td>\n",
              "      <td>One year</td>\n",
              "      <td>No</td>\n",
              "      <td>Bank transfer (automatic)</td>\n",
              "      <td>42.30</td>\n",
              "      <td>1840.75</td>\n",
              "      <td>No</td>\n",
              "    </tr>\n",
              "    <tr>\n",
              "      <th>4</th>\n",
              "      <td>9237-HQITU</td>\n",
              "      <td>Female</td>\n",
              "      <td>0</td>\n",
              "      <td>No</td>\n",
              "      <td>No</td>\n",
              "      <td>2</td>\n",
              "      <td>Yes</td>\n",
              "      <td>No</td>\n",
              "      <td>Fiber optic</td>\n",
              "      <td>No</td>\n",
              "      <td>No</td>\n",
              "      <td>No</td>\n",
              "      <td>No</td>\n",
              "      <td>No</td>\n",
              "      <td>No</td>\n",
              "      <td>Month-to-month</td>\n",
              "      <td>Yes</td>\n",
              "      <td>Electronic check</td>\n",
              "      <td>70.70</td>\n",
              "      <td>151.65</td>\n",
              "      <td>Yes</td>\n",
              "    </tr>\n",
              "  </tbody>\n",
              "</table>\n",
              "</div>"
            ],
            "text/plain": [
              "   customerID  gender  SeniorCitizen  ... MonthlyCharges TotalCharges  Churn\n",
              "0  7590-VHVEG  Female              0  ...          29.85        29.85     No\n",
              "1  5575-GNVDE    Male              0  ...          56.95       1889.5     No\n",
              "2  3668-QPYBK    Male              0  ...          53.85       108.15    Yes\n",
              "3  7795-CFOCW    Male              0  ...          42.30      1840.75     No\n",
              "4  9237-HQITU  Female              0  ...          70.70       151.65    Yes\n",
              "\n",
              "[5 rows x 21 columns]"
            ]
          },
          "metadata": {
            "tags": []
          },
          "execution_count": 2
        }
      ]
    },
    {
      "cell_type": "markdown",
      "metadata": {
        "id": "lyfFf4Wr8OdU"
      },
      "source": [
        "### Understanding the data"
      ]
    },
    {
      "cell_type": "markdown",
      "metadata": {
        "id": "ws9EqKyI69TC"
      },
      "source": [
        "**We have 7043 records with 21 different features including customer id and churn**"
      ]
    },
    {
      "cell_type": "code",
      "metadata": {
        "colab": {
          "base_uri": "https://localhost:8080/"
        },
        "id": "I_cWsHtF8OdU",
        "outputId": "41423479-bfbf-47c5-d8e0-7e7d54139038"
      },
      "source": [
        "data.shape"
      ],
      "execution_count": null,
      "outputs": [
        {
          "output_type": "execute_result",
          "data": {
            "text/plain": [
              "(7043, 21)"
            ]
          },
          "metadata": {
            "tags": []
          },
          "execution_count": 3
        }
      ]
    },
    {
      "cell_type": "code",
      "metadata": {
        "colab": {
          "base_uri": "https://localhost:8080/"
        },
        "id": "V2VRn31gVK3o",
        "outputId": "6d18ba60-0c91-401b-ae38-594fe006ae82"
      },
      "source": [
        "data.info()       ## Feature Information"
      ],
      "execution_count": null,
      "outputs": [
        {
          "output_type": "stream",
          "text": [
            "<class 'pandas.core.frame.DataFrame'>\n",
            "RangeIndex: 7043 entries, 0 to 7042\n",
            "Data columns (total 21 columns):\n",
            " #   Column            Non-Null Count  Dtype  \n",
            "---  ------            --------------  -----  \n",
            " 0   customerID        7043 non-null   object \n",
            " 1   gender            7043 non-null   object \n",
            " 2   SeniorCitizen     7043 non-null   int64  \n",
            " 3   Partner           7043 non-null   object \n",
            " 4   Dependents        7043 non-null   object \n",
            " 5   tenure            7043 non-null   int64  \n",
            " 6   PhoneService      7043 non-null   object \n",
            " 7   MultipleLines     7043 non-null   object \n",
            " 8   InternetService   7043 non-null   object \n",
            " 9   OnlineSecurity    7043 non-null   object \n",
            " 10  OnlineBackup      7043 non-null   object \n",
            " 11  DeviceProtection  7043 non-null   object \n",
            " 12  TechSupport       7043 non-null   object \n",
            " 13  StreamingTV       7043 non-null   object \n",
            " 14  StreamingMovies   7043 non-null   object \n",
            " 15  Contract          7043 non-null   object \n",
            " 16  PaperlessBilling  7043 non-null   object \n",
            " 17  PaymentMethod     7043 non-null   object \n",
            " 18  MonthlyCharges    7043 non-null   float64\n",
            " 19  TotalCharges      7043 non-null   object \n",
            " 20  Churn             7043 non-null   object \n",
            "dtypes: float64(1), int64(2), object(18)\n",
            "memory usage: 1.1+ MB\n"
          ],
          "name": "stdout"
        }
      ]
    },
    {
      "cell_type": "markdown",
      "metadata": {
        "id": "J5QxQV537eYm"
      },
      "source": [
        "**Most of the columns are object type, but for developing model we need numeric values and some label encoding as well, so now we will change datatype of some columns and change string values to numeric values by encoding them.**"
      ]
    },
    {
      "cell_type": "code",
      "metadata": {
        "colab": {
          "base_uri": "https://localhost:8080/"
        },
        "id": "lQAPukHW8OdU",
        "outputId": "d68cdb1a-c641-40c5-a6d0-aced11cefc7a"
      },
      "source": [
        "data.dtypes"
      ],
      "execution_count": null,
      "outputs": [
        {
          "output_type": "execute_result",
          "data": {
            "text/plain": [
              "customerID           object\n",
              "gender               object\n",
              "SeniorCitizen         int64\n",
              "Partner              object\n",
              "Dependents           object\n",
              "tenure                int64\n",
              "PhoneService         object\n",
              "MultipleLines        object\n",
              "InternetService      object\n",
              "OnlineSecurity       object\n",
              "OnlineBackup         object\n",
              "DeviceProtection     object\n",
              "TechSupport          object\n",
              "StreamingTV          object\n",
              "StreamingMovies      object\n",
              "Contract             object\n",
              "PaperlessBilling     object\n",
              "PaymentMethod        object\n",
              "MonthlyCharges      float64\n",
              "TotalCharges         object\n",
              "Churn                object\n",
              "dtype: object"
            ]
          },
          "metadata": {
            "tags": []
          },
          "execution_count": 5
        }
      ]
    },
    {
      "cell_type": "code",
      "metadata": {
        "colab": {
          "base_uri": "https://localhost:8080/",
          "height": 206
        },
        "id": "TInqd8DI8OdU",
        "outputId": "afcfdf4a-6be7-4769-9c82-42c722cb541e"
      },
      "source": [
        "def changeColToStr(data):\n",
        "    columnsName=['Partner','Dependents','PhoneService','MultipleLines','OnlineSecurity','OnlineBackup','DeviceProtection','TechSupport','StreamingTV','StreamingMovies','PaperlessBilling','Churn']\n",
        "    for col in columnsName:\n",
        "        data[col]=data[col].astype('str').str.replace('Yes','1').replace('No','0').replace('No internet service','0').replace('No phone service',0)\n",
        "\n",
        "changeColToStr(data)\n",
        "data.head(3)"
      ],
      "execution_count": null,
      "outputs": [
        {
          "output_type": "execute_result",
          "data": {
            "text/html": [
              "<div>\n",
              "<style scoped>\n",
              "    .dataframe tbody tr th:only-of-type {\n",
              "        vertical-align: middle;\n",
              "    }\n",
              "\n",
              "    .dataframe tbody tr th {\n",
              "        vertical-align: top;\n",
              "    }\n",
              "\n",
              "    .dataframe thead th {\n",
              "        text-align: right;\n",
              "    }\n",
              "</style>\n",
              "<table border=\"1\" class=\"dataframe\">\n",
              "  <thead>\n",
              "    <tr style=\"text-align: right;\">\n",
              "      <th></th>\n",
              "      <th>customerID</th>\n",
              "      <th>gender</th>\n",
              "      <th>SeniorCitizen</th>\n",
              "      <th>Partner</th>\n",
              "      <th>Dependents</th>\n",
              "      <th>tenure</th>\n",
              "      <th>PhoneService</th>\n",
              "      <th>MultipleLines</th>\n",
              "      <th>InternetService</th>\n",
              "      <th>OnlineSecurity</th>\n",
              "      <th>OnlineBackup</th>\n",
              "      <th>DeviceProtection</th>\n",
              "      <th>TechSupport</th>\n",
              "      <th>StreamingTV</th>\n",
              "      <th>StreamingMovies</th>\n",
              "      <th>Contract</th>\n",
              "      <th>PaperlessBilling</th>\n",
              "      <th>PaymentMethod</th>\n",
              "      <th>MonthlyCharges</th>\n",
              "      <th>TotalCharges</th>\n",
              "      <th>Churn</th>\n",
              "    </tr>\n",
              "  </thead>\n",
              "  <tbody>\n",
              "    <tr>\n",
              "      <th>0</th>\n",
              "      <td>7590-VHVEG</td>\n",
              "      <td>Female</td>\n",
              "      <td>0</td>\n",
              "      <td>1</td>\n",
              "      <td>0</td>\n",
              "      <td>1</td>\n",
              "      <td>0</td>\n",
              "      <td>0</td>\n",
              "      <td>DSL</td>\n",
              "      <td>0</td>\n",
              "      <td>1</td>\n",
              "      <td>0</td>\n",
              "      <td>0</td>\n",
              "      <td>0</td>\n",
              "      <td>0</td>\n",
              "      <td>Month-to-month</td>\n",
              "      <td>1</td>\n",
              "      <td>Electronic check</td>\n",
              "      <td>29.85</td>\n",
              "      <td>29.85</td>\n",
              "      <td>0</td>\n",
              "    </tr>\n",
              "    <tr>\n",
              "      <th>1</th>\n",
              "      <td>5575-GNVDE</td>\n",
              "      <td>Male</td>\n",
              "      <td>0</td>\n",
              "      <td>0</td>\n",
              "      <td>0</td>\n",
              "      <td>34</td>\n",
              "      <td>1</td>\n",
              "      <td>0</td>\n",
              "      <td>DSL</td>\n",
              "      <td>1</td>\n",
              "      <td>0</td>\n",
              "      <td>1</td>\n",
              "      <td>0</td>\n",
              "      <td>0</td>\n",
              "      <td>0</td>\n",
              "      <td>One year</td>\n",
              "      <td>0</td>\n",
              "      <td>Mailed check</td>\n",
              "      <td>56.95</td>\n",
              "      <td>1889.5</td>\n",
              "      <td>0</td>\n",
              "    </tr>\n",
              "    <tr>\n",
              "      <th>2</th>\n",
              "      <td>3668-QPYBK</td>\n",
              "      <td>Male</td>\n",
              "      <td>0</td>\n",
              "      <td>0</td>\n",
              "      <td>0</td>\n",
              "      <td>2</td>\n",
              "      <td>1</td>\n",
              "      <td>0</td>\n",
              "      <td>DSL</td>\n",
              "      <td>1</td>\n",
              "      <td>1</td>\n",
              "      <td>0</td>\n",
              "      <td>0</td>\n",
              "      <td>0</td>\n",
              "      <td>0</td>\n",
              "      <td>Month-to-month</td>\n",
              "      <td>1</td>\n",
              "      <td>Mailed check</td>\n",
              "      <td>53.85</td>\n",
              "      <td>108.15</td>\n",
              "      <td>1</td>\n",
              "    </tr>\n",
              "  </tbody>\n",
              "</table>\n",
              "</div>"
            ],
            "text/plain": [
              "   customerID  gender  SeniorCitizen  ... MonthlyCharges TotalCharges  Churn\n",
              "0  7590-VHVEG  Female              0  ...          29.85        29.85      0\n",
              "1  5575-GNVDE    Male              0  ...          56.95       1889.5      0\n",
              "2  3668-QPYBK    Male              0  ...          53.85       108.15      1\n",
              "\n",
              "[3 rows x 21 columns]"
            ]
          },
          "metadata": {
            "tags": []
          },
          "execution_count": 6
        }
      ]
    },
    {
      "cell_type": "code",
      "metadata": {
        "colab": {
          "base_uri": "https://localhost:8080/",
          "height": 160
        },
        "id": "Nxn_k7QW8OdV",
        "outputId": "0d7f53db-a6bc-4fd7-9d98-4f1af9c0f72b"
      },
      "source": [
        "data['SeniorCitizen']=data['SeniorCitizen'].astype(bool)\n",
        "data['TotalCharges']=pd.to_numeric(data['TotalCharges'],errors='coerce')\n",
        "data.head(2)"
      ],
      "execution_count": null,
      "outputs": [
        {
          "output_type": "execute_result",
          "data": {
            "text/html": [
              "<div>\n",
              "<style scoped>\n",
              "    .dataframe tbody tr th:only-of-type {\n",
              "        vertical-align: middle;\n",
              "    }\n",
              "\n",
              "    .dataframe tbody tr th {\n",
              "        vertical-align: top;\n",
              "    }\n",
              "\n",
              "    .dataframe thead th {\n",
              "        text-align: right;\n",
              "    }\n",
              "</style>\n",
              "<table border=\"1\" class=\"dataframe\">\n",
              "  <thead>\n",
              "    <tr style=\"text-align: right;\">\n",
              "      <th></th>\n",
              "      <th>customerID</th>\n",
              "      <th>gender</th>\n",
              "      <th>SeniorCitizen</th>\n",
              "      <th>Partner</th>\n",
              "      <th>Dependents</th>\n",
              "      <th>tenure</th>\n",
              "      <th>PhoneService</th>\n",
              "      <th>MultipleLines</th>\n",
              "      <th>InternetService</th>\n",
              "      <th>OnlineSecurity</th>\n",
              "      <th>OnlineBackup</th>\n",
              "      <th>DeviceProtection</th>\n",
              "      <th>TechSupport</th>\n",
              "      <th>StreamingTV</th>\n",
              "      <th>StreamingMovies</th>\n",
              "      <th>Contract</th>\n",
              "      <th>PaperlessBilling</th>\n",
              "      <th>PaymentMethod</th>\n",
              "      <th>MonthlyCharges</th>\n",
              "      <th>TotalCharges</th>\n",
              "      <th>Churn</th>\n",
              "    </tr>\n",
              "  </thead>\n",
              "  <tbody>\n",
              "    <tr>\n",
              "      <th>0</th>\n",
              "      <td>7590-VHVEG</td>\n",
              "      <td>Female</td>\n",
              "      <td>False</td>\n",
              "      <td>1</td>\n",
              "      <td>0</td>\n",
              "      <td>1</td>\n",
              "      <td>0</td>\n",
              "      <td>0</td>\n",
              "      <td>DSL</td>\n",
              "      <td>0</td>\n",
              "      <td>1</td>\n",
              "      <td>0</td>\n",
              "      <td>0</td>\n",
              "      <td>0</td>\n",
              "      <td>0</td>\n",
              "      <td>Month-to-month</td>\n",
              "      <td>1</td>\n",
              "      <td>Electronic check</td>\n",
              "      <td>29.85</td>\n",
              "      <td>29.85</td>\n",
              "      <td>0</td>\n",
              "    </tr>\n",
              "    <tr>\n",
              "      <th>1</th>\n",
              "      <td>5575-GNVDE</td>\n",
              "      <td>Male</td>\n",
              "      <td>False</td>\n",
              "      <td>0</td>\n",
              "      <td>0</td>\n",
              "      <td>34</td>\n",
              "      <td>1</td>\n",
              "      <td>0</td>\n",
              "      <td>DSL</td>\n",
              "      <td>1</td>\n",
              "      <td>0</td>\n",
              "      <td>1</td>\n",
              "      <td>0</td>\n",
              "      <td>0</td>\n",
              "      <td>0</td>\n",
              "      <td>One year</td>\n",
              "      <td>0</td>\n",
              "      <td>Mailed check</td>\n",
              "      <td>56.95</td>\n",
              "      <td>1889.50</td>\n",
              "      <td>0</td>\n",
              "    </tr>\n",
              "  </tbody>\n",
              "</table>\n",
              "</div>"
            ],
            "text/plain": [
              "   customerID  gender  SeniorCitizen  ... MonthlyCharges TotalCharges  Churn\n",
              "0  7590-VHVEG  Female          False  ...          29.85        29.85      0\n",
              "1  5575-GNVDE    Male          False  ...          56.95      1889.50      0\n",
              "\n",
              "[2 rows x 21 columns]"
            ]
          },
          "metadata": {
            "tags": []
          },
          "execution_count": 7
        }
      ]
    },
    {
      "cell_type": "code",
      "metadata": {
        "colab": {
          "base_uri": "https://localhost:8080/"
        },
        "id": "jaICepu_54A1",
        "outputId": "7a520f76-7866-4285-d664-0544b36062a7"
      },
      "source": [
        "NumericColumns=np.array(['Partner', 'Dependents', 'tenure', 'PhoneService',\n",
        "       'MultipleLines', 'OnlineSecurity', 'OnlineBackup', 'DeviceProtection',\n",
        "       'TechSupport', 'StreamingTV', 'StreamingMovies', 'PaperlessBilling',\n",
        "       'MonthlyCharges', 'TotalCharges', 'Churn'])\n",
        "\n",
        "for columnName in NumericColumns:\n",
        "    data[columnName]=pd.to_numeric(data[columnName],errors='coerce')\n",
        "data.dtypes"
      ],
      "execution_count": null,
      "outputs": [
        {
          "output_type": "execute_result",
          "data": {
            "text/plain": [
              "customerID           object\n",
              "gender               object\n",
              "SeniorCitizen          bool\n",
              "Partner               int64\n",
              "Dependents            int64\n",
              "tenure                int64\n",
              "PhoneService          int64\n",
              "MultipleLines         int64\n",
              "InternetService      object\n",
              "OnlineSecurity        int64\n",
              "OnlineBackup          int64\n",
              "DeviceProtection      int64\n",
              "TechSupport           int64\n",
              "StreamingTV           int64\n",
              "StreamingMovies       int64\n",
              "Contract             object\n",
              "PaperlessBilling      int64\n",
              "PaymentMethod        object\n",
              "MonthlyCharges      float64\n",
              "TotalCharges        float64\n",
              "Churn                 int64\n",
              "dtype: object"
            ]
          },
          "metadata": {
            "tags": []
          },
          "execution_count": 8
        }
      ]
    },
    {
      "cell_type": "code",
      "metadata": {
        "colab": {
          "base_uri": "https://localhost:8080/",
          "height": 304
        },
        "id": "Yc1hXA-f61qF",
        "outputId": "40c09735-b0e5-4e5a-9615-1f2b4ca8b2e7"
      },
      "source": [
        "data.describe()                ## # Descriptive statistics of the data set accessed."
      ],
      "execution_count": null,
      "outputs": [
        {
          "output_type": "execute_result",
          "data": {
            "text/html": [
              "<div>\n",
              "<style scoped>\n",
              "    .dataframe tbody tr th:only-of-type {\n",
              "        vertical-align: middle;\n",
              "    }\n",
              "\n",
              "    .dataframe tbody tr th {\n",
              "        vertical-align: top;\n",
              "    }\n",
              "\n",
              "    .dataframe thead th {\n",
              "        text-align: right;\n",
              "    }\n",
              "</style>\n",
              "<table border=\"1\" class=\"dataframe\">\n",
              "  <thead>\n",
              "    <tr style=\"text-align: right;\">\n",
              "      <th></th>\n",
              "      <th>Partner</th>\n",
              "      <th>Dependents</th>\n",
              "      <th>tenure</th>\n",
              "      <th>PhoneService</th>\n",
              "      <th>MultipleLines</th>\n",
              "      <th>OnlineSecurity</th>\n",
              "      <th>OnlineBackup</th>\n",
              "      <th>DeviceProtection</th>\n",
              "      <th>TechSupport</th>\n",
              "      <th>StreamingTV</th>\n",
              "      <th>StreamingMovies</th>\n",
              "      <th>PaperlessBilling</th>\n",
              "      <th>MonthlyCharges</th>\n",
              "      <th>TotalCharges</th>\n",
              "      <th>Churn</th>\n",
              "    </tr>\n",
              "  </thead>\n",
              "  <tbody>\n",
              "    <tr>\n",
              "      <th>count</th>\n",
              "      <td>7043.000000</td>\n",
              "      <td>7043.000000</td>\n",
              "      <td>7043.000000</td>\n",
              "      <td>7043.000000</td>\n",
              "      <td>7043.000000</td>\n",
              "      <td>7043.000000</td>\n",
              "      <td>7043.000000</td>\n",
              "      <td>7043.000000</td>\n",
              "      <td>7043.000000</td>\n",
              "      <td>7043.000000</td>\n",
              "      <td>7043.000000</td>\n",
              "      <td>7043.000000</td>\n",
              "      <td>7043.000000</td>\n",
              "      <td>7032.000000</td>\n",
              "      <td>7043.000000</td>\n",
              "    </tr>\n",
              "    <tr>\n",
              "      <th>mean</th>\n",
              "      <td>0.483033</td>\n",
              "      <td>0.299588</td>\n",
              "      <td>32.371149</td>\n",
              "      <td>0.903166</td>\n",
              "      <td>0.421837</td>\n",
              "      <td>0.286668</td>\n",
              "      <td>0.344881</td>\n",
              "      <td>0.343888</td>\n",
              "      <td>0.290217</td>\n",
              "      <td>0.384353</td>\n",
              "      <td>0.387903</td>\n",
              "      <td>0.592219</td>\n",
              "      <td>64.761692</td>\n",
              "      <td>2283.300441</td>\n",
              "      <td>0.265370</td>\n",
              "    </tr>\n",
              "    <tr>\n",
              "      <th>std</th>\n",
              "      <td>0.499748</td>\n",
              "      <td>0.458110</td>\n",
              "      <td>24.559481</td>\n",
              "      <td>0.295752</td>\n",
              "      <td>0.493888</td>\n",
              "      <td>0.452237</td>\n",
              "      <td>0.475363</td>\n",
              "      <td>0.475038</td>\n",
              "      <td>0.453895</td>\n",
              "      <td>0.486477</td>\n",
              "      <td>0.487307</td>\n",
              "      <td>0.491457</td>\n",
              "      <td>30.090047</td>\n",
              "      <td>2266.771362</td>\n",
              "      <td>0.441561</td>\n",
              "    </tr>\n",
              "    <tr>\n",
              "      <th>min</th>\n",
              "      <td>0.000000</td>\n",
              "      <td>0.000000</td>\n",
              "      <td>0.000000</td>\n",
              "      <td>0.000000</td>\n",
              "      <td>0.000000</td>\n",
              "      <td>0.000000</td>\n",
              "      <td>0.000000</td>\n",
              "      <td>0.000000</td>\n",
              "      <td>0.000000</td>\n",
              "      <td>0.000000</td>\n",
              "      <td>0.000000</td>\n",
              "      <td>0.000000</td>\n",
              "      <td>18.250000</td>\n",
              "      <td>18.800000</td>\n",
              "      <td>0.000000</td>\n",
              "    </tr>\n",
              "    <tr>\n",
              "      <th>25%</th>\n",
              "      <td>0.000000</td>\n",
              "      <td>0.000000</td>\n",
              "      <td>9.000000</td>\n",
              "      <td>1.000000</td>\n",
              "      <td>0.000000</td>\n",
              "      <td>0.000000</td>\n",
              "      <td>0.000000</td>\n",
              "      <td>0.000000</td>\n",
              "      <td>0.000000</td>\n",
              "      <td>0.000000</td>\n",
              "      <td>0.000000</td>\n",
              "      <td>0.000000</td>\n",
              "      <td>35.500000</td>\n",
              "      <td>401.450000</td>\n",
              "      <td>0.000000</td>\n",
              "    </tr>\n",
              "    <tr>\n",
              "      <th>50%</th>\n",
              "      <td>0.000000</td>\n",
              "      <td>0.000000</td>\n",
              "      <td>29.000000</td>\n",
              "      <td>1.000000</td>\n",
              "      <td>0.000000</td>\n",
              "      <td>0.000000</td>\n",
              "      <td>0.000000</td>\n",
              "      <td>0.000000</td>\n",
              "      <td>0.000000</td>\n",
              "      <td>0.000000</td>\n",
              "      <td>0.000000</td>\n",
              "      <td>1.000000</td>\n",
              "      <td>70.350000</td>\n",
              "      <td>1397.475000</td>\n",
              "      <td>0.000000</td>\n",
              "    </tr>\n",
              "    <tr>\n",
              "      <th>75%</th>\n",
              "      <td>1.000000</td>\n",
              "      <td>1.000000</td>\n",
              "      <td>55.000000</td>\n",
              "      <td>1.000000</td>\n",
              "      <td>1.000000</td>\n",
              "      <td>1.000000</td>\n",
              "      <td>1.000000</td>\n",
              "      <td>1.000000</td>\n",
              "      <td>1.000000</td>\n",
              "      <td>1.000000</td>\n",
              "      <td>1.000000</td>\n",
              "      <td>1.000000</td>\n",
              "      <td>89.850000</td>\n",
              "      <td>3794.737500</td>\n",
              "      <td>1.000000</td>\n",
              "    </tr>\n",
              "    <tr>\n",
              "      <th>max</th>\n",
              "      <td>1.000000</td>\n",
              "      <td>1.000000</td>\n",
              "      <td>72.000000</td>\n",
              "      <td>1.000000</td>\n",
              "      <td>1.000000</td>\n",
              "      <td>1.000000</td>\n",
              "      <td>1.000000</td>\n",
              "      <td>1.000000</td>\n",
              "      <td>1.000000</td>\n",
              "      <td>1.000000</td>\n",
              "      <td>1.000000</td>\n",
              "      <td>1.000000</td>\n",
              "      <td>118.750000</td>\n",
              "      <td>8684.800000</td>\n",
              "      <td>1.000000</td>\n",
              "    </tr>\n",
              "  </tbody>\n",
              "</table>\n",
              "</div>"
            ],
            "text/plain": [
              "           Partner   Dependents  ...  TotalCharges        Churn\n",
              "count  7043.000000  7043.000000  ...   7032.000000  7043.000000\n",
              "mean      0.483033     0.299588  ...   2283.300441     0.265370\n",
              "std       0.499748     0.458110  ...   2266.771362     0.441561\n",
              "min       0.000000     0.000000  ...     18.800000     0.000000\n",
              "25%       0.000000     0.000000  ...    401.450000     0.000000\n",
              "50%       0.000000     0.000000  ...   1397.475000     0.000000\n",
              "75%       1.000000     1.000000  ...   3794.737500     1.000000\n",
              "max       1.000000     1.000000  ...   8684.800000     1.000000\n",
              "\n",
              "[8 rows x 15 columns]"
            ]
          },
          "metadata": {
            "tags": []
          },
          "execution_count": 9
        }
      ]
    },
    {
      "cell_type": "code",
      "metadata": {
        "colab": {
          "base_uri": "https://localhost:8080/"
        },
        "id": "jf-MQjvKYlOX",
        "outputId": "62fe4f9d-2c46-4e62-a345-7ef185073e41"
      },
      "source": [
        "data['Churn'].value_counts()                  ###  The frequency of the dependent variable has been reached."
      ],
      "execution_count": null,
      "outputs": [
        {
          "output_type": "execute_result",
          "data": {
            "text/plain": [
              "0    5174\n",
              "1    1869\n",
              "Name: Churn, dtype: int64"
            ]
          },
          "metadata": {
            "tags": []
          },
          "execution_count": 10
        }
      ]
    },
    {
      "cell_type": "code",
      "metadata": {
        "colab": {
          "base_uri": "https://localhost:8080/",
          "height": 299
        },
        "id": "RcBInmyxZKaW",
        "outputId": "622ca162-5c2c-44c3-9b11-dccd38ced94a"
      },
      "source": [
        "churn = data[data[\"Churn\"] == 1]             ## Access to those who left us through the dependent variable. (churn == 1)\n",
        "churn.head()"
      ],
      "execution_count": null,
      "outputs": [
        {
          "output_type": "execute_result",
          "data": {
            "text/html": [
              "<div>\n",
              "<style scoped>\n",
              "    .dataframe tbody tr th:only-of-type {\n",
              "        vertical-align: middle;\n",
              "    }\n",
              "\n",
              "    .dataframe tbody tr th {\n",
              "        vertical-align: top;\n",
              "    }\n",
              "\n",
              "    .dataframe thead th {\n",
              "        text-align: right;\n",
              "    }\n",
              "</style>\n",
              "<table border=\"1\" class=\"dataframe\">\n",
              "  <thead>\n",
              "    <tr style=\"text-align: right;\">\n",
              "      <th></th>\n",
              "      <th>customerID</th>\n",
              "      <th>gender</th>\n",
              "      <th>SeniorCitizen</th>\n",
              "      <th>Partner</th>\n",
              "      <th>Dependents</th>\n",
              "      <th>tenure</th>\n",
              "      <th>PhoneService</th>\n",
              "      <th>MultipleLines</th>\n",
              "      <th>InternetService</th>\n",
              "      <th>OnlineSecurity</th>\n",
              "      <th>OnlineBackup</th>\n",
              "      <th>DeviceProtection</th>\n",
              "      <th>TechSupport</th>\n",
              "      <th>StreamingTV</th>\n",
              "      <th>StreamingMovies</th>\n",
              "      <th>Contract</th>\n",
              "      <th>PaperlessBilling</th>\n",
              "      <th>PaymentMethod</th>\n",
              "      <th>MonthlyCharges</th>\n",
              "      <th>TotalCharges</th>\n",
              "      <th>Churn</th>\n",
              "    </tr>\n",
              "  </thead>\n",
              "  <tbody>\n",
              "    <tr>\n",
              "      <th>2</th>\n",
              "      <td>3668-QPYBK</td>\n",
              "      <td>Male</td>\n",
              "      <td>False</td>\n",
              "      <td>0</td>\n",
              "      <td>0</td>\n",
              "      <td>2</td>\n",
              "      <td>1</td>\n",
              "      <td>0</td>\n",
              "      <td>DSL</td>\n",
              "      <td>1</td>\n",
              "      <td>1</td>\n",
              "      <td>0</td>\n",
              "      <td>0</td>\n",
              "      <td>0</td>\n",
              "      <td>0</td>\n",
              "      <td>Month-to-month</td>\n",
              "      <td>1</td>\n",
              "      <td>Mailed check</td>\n",
              "      <td>53.85</td>\n",
              "      <td>108.15</td>\n",
              "      <td>1</td>\n",
              "    </tr>\n",
              "    <tr>\n",
              "      <th>4</th>\n",
              "      <td>9237-HQITU</td>\n",
              "      <td>Female</td>\n",
              "      <td>False</td>\n",
              "      <td>0</td>\n",
              "      <td>0</td>\n",
              "      <td>2</td>\n",
              "      <td>1</td>\n",
              "      <td>0</td>\n",
              "      <td>Fiber optic</td>\n",
              "      <td>0</td>\n",
              "      <td>0</td>\n",
              "      <td>0</td>\n",
              "      <td>0</td>\n",
              "      <td>0</td>\n",
              "      <td>0</td>\n",
              "      <td>Month-to-month</td>\n",
              "      <td>1</td>\n",
              "      <td>Electronic check</td>\n",
              "      <td>70.70</td>\n",
              "      <td>151.65</td>\n",
              "      <td>1</td>\n",
              "    </tr>\n",
              "    <tr>\n",
              "      <th>5</th>\n",
              "      <td>9305-CDSKC</td>\n",
              "      <td>Female</td>\n",
              "      <td>False</td>\n",
              "      <td>0</td>\n",
              "      <td>0</td>\n",
              "      <td>8</td>\n",
              "      <td>1</td>\n",
              "      <td>1</td>\n",
              "      <td>Fiber optic</td>\n",
              "      <td>0</td>\n",
              "      <td>0</td>\n",
              "      <td>1</td>\n",
              "      <td>0</td>\n",
              "      <td>1</td>\n",
              "      <td>1</td>\n",
              "      <td>Month-to-month</td>\n",
              "      <td>1</td>\n",
              "      <td>Electronic check</td>\n",
              "      <td>99.65</td>\n",
              "      <td>820.50</td>\n",
              "      <td>1</td>\n",
              "    </tr>\n",
              "    <tr>\n",
              "      <th>8</th>\n",
              "      <td>7892-POOKP</td>\n",
              "      <td>Female</td>\n",
              "      <td>False</td>\n",
              "      <td>1</td>\n",
              "      <td>0</td>\n",
              "      <td>28</td>\n",
              "      <td>1</td>\n",
              "      <td>1</td>\n",
              "      <td>Fiber optic</td>\n",
              "      <td>0</td>\n",
              "      <td>0</td>\n",
              "      <td>1</td>\n",
              "      <td>1</td>\n",
              "      <td>1</td>\n",
              "      <td>1</td>\n",
              "      <td>Month-to-month</td>\n",
              "      <td>1</td>\n",
              "      <td>Electronic check</td>\n",
              "      <td>104.80</td>\n",
              "      <td>3046.05</td>\n",
              "      <td>1</td>\n",
              "    </tr>\n",
              "    <tr>\n",
              "      <th>13</th>\n",
              "      <td>0280-XJGEX</td>\n",
              "      <td>Male</td>\n",
              "      <td>False</td>\n",
              "      <td>0</td>\n",
              "      <td>0</td>\n",
              "      <td>49</td>\n",
              "      <td>1</td>\n",
              "      <td>1</td>\n",
              "      <td>Fiber optic</td>\n",
              "      <td>0</td>\n",
              "      <td>1</td>\n",
              "      <td>1</td>\n",
              "      <td>0</td>\n",
              "      <td>1</td>\n",
              "      <td>1</td>\n",
              "      <td>Month-to-month</td>\n",
              "      <td>1</td>\n",
              "      <td>Bank transfer (automatic)</td>\n",
              "      <td>103.70</td>\n",
              "      <td>5036.30</td>\n",
              "      <td>1</td>\n",
              "    </tr>\n",
              "  </tbody>\n",
              "</table>\n",
              "</div>"
            ],
            "text/plain": [
              "    customerID  gender  SeniorCitizen  ...  MonthlyCharges  TotalCharges  Churn\n",
              "2   3668-QPYBK    Male          False  ...           53.85        108.15      1\n",
              "4   9237-HQITU  Female          False  ...           70.70        151.65      1\n",
              "5   9305-CDSKC  Female          False  ...           99.65        820.50      1\n",
              "8   7892-POOKP  Female          False  ...          104.80       3046.05      1\n",
              "13  0280-XJGEX    Male          False  ...          103.70       5036.30      1\n",
              "\n",
              "[5 rows x 21 columns]"
            ]
          },
          "metadata": {
            "tags": []
          },
          "execution_count": 11
        }
      ]
    },
    {
      "cell_type": "code",
      "metadata": {
        "colab": {
          "base_uri": "https://localhost:8080/",
          "height": 136
        },
        "id": "HnZi4utyavFy",
        "outputId": "6ae67da9-0e72-4d56-da20-6342eefd20e1"
      },
      "source": [
        "churn.groupby(\"gender\").agg({\"Churn\": \"count\"})              ##  Who left most than the gender variable?"
      ],
      "execution_count": null,
      "outputs": [
        {
          "output_type": "execute_result",
          "data": {
            "text/html": [
              "<div>\n",
              "<style scoped>\n",
              "    .dataframe tbody tr th:only-of-type {\n",
              "        vertical-align: middle;\n",
              "    }\n",
              "\n",
              "    .dataframe tbody tr th {\n",
              "        vertical-align: top;\n",
              "    }\n",
              "\n",
              "    .dataframe thead th {\n",
              "        text-align: right;\n",
              "    }\n",
              "</style>\n",
              "<table border=\"1\" class=\"dataframe\">\n",
              "  <thead>\n",
              "    <tr style=\"text-align: right;\">\n",
              "      <th></th>\n",
              "      <th>Churn</th>\n",
              "    </tr>\n",
              "    <tr>\n",
              "      <th>gender</th>\n",
              "      <th></th>\n",
              "    </tr>\n",
              "  </thead>\n",
              "  <tbody>\n",
              "    <tr>\n",
              "      <th>Female</th>\n",
              "      <td>939</td>\n",
              "    </tr>\n",
              "    <tr>\n",
              "      <th>Male</th>\n",
              "      <td>930</td>\n",
              "    </tr>\n",
              "  </tbody>\n",
              "</table>\n",
              "</div>"
            ],
            "text/plain": [
              "        Churn\n",
              "gender       \n",
              "Female    939\n",
              "Male      930"
            ]
          },
          "metadata": {
            "tags": []
          },
          "execution_count": 12
        }
      ]
    },
    {
      "cell_type": "code",
      "metadata": {
        "colab": {
          "base_uri": "https://localhost:8080/",
          "height": 299
        },
        "id": "XnDzGXjsbKUD",
        "outputId": "2d164622-52bc-4d96-fa2b-aec19e20cbf1"
      },
      "source": [
        "non_churn = data[data[\"Churn\"] == 0]                   ### Access to those who do not leave us on the dependent variable. (churn == 0)\n",
        "non_churn.head()"
      ],
      "execution_count": null,
      "outputs": [
        {
          "output_type": "execute_result",
          "data": {
            "text/html": [
              "<div>\n",
              "<style scoped>\n",
              "    .dataframe tbody tr th:only-of-type {\n",
              "        vertical-align: middle;\n",
              "    }\n",
              "\n",
              "    .dataframe tbody tr th {\n",
              "        vertical-align: top;\n",
              "    }\n",
              "\n",
              "    .dataframe thead th {\n",
              "        text-align: right;\n",
              "    }\n",
              "</style>\n",
              "<table border=\"1\" class=\"dataframe\">\n",
              "  <thead>\n",
              "    <tr style=\"text-align: right;\">\n",
              "      <th></th>\n",
              "      <th>customerID</th>\n",
              "      <th>gender</th>\n",
              "      <th>SeniorCitizen</th>\n",
              "      <th>Partner</th>\n",
              "      <th>Dependents</th>\n",
              "      <th>tenure</th>\n",
              "      <th>PhoneService</th>\n",
              "      <th>MultipleLines</th>\n",
              "      <th>InternetService</th>\n",
              "      <th>OnlineSecurity</th>\n",
              "      <th>OnlineBackup</th>\n",
              "      <th>DeviceProtection</th>\n",
              "      <th>TechSupport</th>\n",
              "      <th>StreamingTV</th>\n",
              "      <th>StreamingMovies</th>\n",
              "      <th>Contract</th>\n",
              "      <th>PaperlessBilling</th>\n",
              "      <th>PaymentMethod</th>\n",
              "      <th>MonthlyCharges</th>\n",
              "      <th>TotalCharges</th>\n",
              "      <th>Churn</th>\n",
              "    </tr>\n",
              "  </thead>\n",
              "  <tbody>\n",
              "    <tr>\n",
              "      <th>0</th>\n",
              "      <td>7590-VHVEG</td>\n",
              "      <td>Female</td>\n",
              "      <td>False</td>\n",
              "      <td>1</td>\n",
              "      <td>0</td>\n",
              "      <td>1</td>\n",
              "      <td>0</td>\n",
              "      <td>0</td>\n",
              "      <td>DSL</td>\n",
              "      <td>0</td>\n",
              "      <td>1</td>\n",
              "      <td>0</td>\n",
              "      <td>0</td>\n",
              "      <td>0</td>\n",
              "      <td>0</td>\n",
              "      <td>Month-to-month</td>\n",
              "      <td>1</td>\n",
              "      <td>Electronic check</td>\n",
              "      <td>29.85</td>\n",
              "      <td>29.85</td>\n",
              "      <td>0</td>\n",
              "    </tr>\n",
              "    <tr>\n",
              "      <th>1</th>\n",
              "      <td>5575-GNVDE</td>\n",
              "      <td>Male</td>\n",
              "      <td>False</td>\n",
              "      <td>0</td>\n",
              "      <td>0</td>\n",
              "      <td>34</td>\n",
              "      <td>1</td>\n",
              "      <td>0</td>\n",
              "      <td>DSL</td>\n",
              "      <td>1</td>\n",
              "      <td>0</td>\n",
              "      <td>1</td>\n",
              "      <td>0</td>\n",
              "      <td>0</td>\n",
              "      <td>0</td>\n",
              "      <td>One year</td>\n",
              "      <td>0</td>\n",
              "      <td>Mailed check</td>\n",
              "      <td>56.95</td>\n",
              "      <td>1889.50</td>\n",
              "      <td>0</td>\n",
              "    </tr>\n",
              "    <tr>\n",
              "      <th>3</th>\n",
              "      <td>7795-CFOCW</td>\n",
              "      <td>Male</td>\n",
              "      <td>False</td>\n",
              "      <td>0</td>\n",
              "      <td>0</td>\n",
              "      <td>45</td>\n",
              "      <td>0</td>\n",
              "      <td>0</td>\n",
              "      <td>DSL</td>\n",
              "      <td>1</td>\n",
              "      <td>0</td>\n",
              "      <td>1</td>\n",
              "      <td>1</td>\n",
              "      <td>0</td>\n",
              "      <td>0</td>\n",
              "      <td>One year</td>\n",
              "      <td>0</td>\n",
              "      <td>Bank transfer (automatic)</td>\n",
              "      <td>42.30</td>\n",
              "      <td>1840.75</td>\n",
              "      <td>0</td>\n",
              "    </tr>\n",
              "    <tr>\n",
              "      <th>6</th>\n",
              "      <td>1452-KIOVK</td>\n",
              "      <td>Male</td>\n",
              "      <td>False</td>\n",
              "      <td>0</td>\n",
              "      <td>1</td>\n",
              "      <td>22</td>\n",
              "      <td>1</td>\n",
              "      <td>1</td>\n",
              "      <td>Fiber optic</td>\n",
              "      <td>0</td>\n",
              "      <td>1</td>\n",
              "      <td>0</td>\n",
              "      <td>0</td>\n",
              "      <td>1</td>\n",
              "      <td>0</td>\n",
              "      <td>Month-to-month</td>\n",
              "      <td>1</td>\n",
              "      <td>Credit card (automatic)</td>\n",
              "      <td>89.10</td>\n",
              "      <td>1949.40</td>\n",
              "      <td>0</td>\n",
              "    </tr>\n",
              "    <tr>\n",
              "      <th>7</th>\n",
              "      <td>6713-OKOMC</td>\n",
              "      <td>Female</td>\n",
              "      <td>False</td>\n",
              "      <td>0</td>\n",
              "      <td>0</td>\n",
              "      <td>10</td>\n",
              "      <td>0</td>\n",
              "      <td>0</td>\n",
              "      <td>DSL</td>\n",
              "      <td>1</td>\n",
              "      <td>0</td>\n",
              "      <td>0</td>\n",
              "      <td>0</td>\n",
              "      <td>0</td>\n",
              "      <td>0</td>\n",
              "      <td>Month-to-month</td>\n",
              "      <td>0</td>\n",
              "      <td>Mailed check</td>\n",
              "      <td>29.75</td>\n",
              "      <td>301.90</td>\n",
              "      <td>0</td>\n",
              "    </tr>\n",
              "  </tbody>\n",
              "</table>\n",
              "</div>"
            ],
            "text/plain": [
              "   customerID  gender  SeniorCitizen  ...  MonthlyCharges  TotalCharges  Churn\n",
              "0  7590-VHVEG  Female          False  ...           29.85         29.85      0\n",
              "1  5575-GNVDE    Male          False  ...           56.95       1889.50      0\n",
              "3  7795-CFOCW    Male          False  ...           42.30       1840.75      0\n",
              "6  1452-KIOVK    Male          False  ...           89.10       1949.40      0\n",
              "7  6713-OKOMC  Female          False  ...           29.75        301.90      0\n",
              "\n",
              "[5 rows x 21 columns]"
            ]
          },
          "metadata": {
            "tags": []
          },
          "execution_count": 13
        }
      ]
    },
    {
      "cell_type": "code",
      "metadata": {
        "colab": {
          "base_uri": "https://localhost:8080/",
          "height": 136
        },
        "id": "3YzuxqMAbVcN",
        "outputId": "e22659cb-3046-4643-8d3b-11347045a970"
      },
      "source": [
        "non_churn.groupby(\"gender\").agg({\"Churn\": \"count\"})"
      ],
      "execution_count": null,
      "outputs": [
        {
          "output_type": "execute_result",
          "data": {
            "text/html": [
              "<div>\n",
              "<style scoped>\n",
              "    .dataframe tbody tr th:only-of-type {\n",
              "        vertical-align: middle;\n",
              "    }\n",
              "\n",
              "    .dataframe tbody tr th {\n",
              "        vertical-align: top;\n",
              "    }\n",
              "\n",
              "    .dataframe thead th {\n",
              "        text-align: right;\n",
              "    }\n",
              "</style>\n",
              "<table border=\"1\" class=\"dataframe\">\n",
              "  <thead>\n",
              "    <tr style=\"text-align: right;\">\n",
              "      <th></th>\n",
              "      <th>Churn</th>\n",
              "    </tr>\n",
              "    <tr>\n",
              "      <th>gender</th>\n",
              "      <th></th>\n",
              "    </tr>\n",
              "  </thead>\n",
              "  <tbody>\n",
              "    <tr>\n",
              "      <th>Female</th>\n",
              "      <td>2549</td>\n",
              "    </tr>\n",
              "    <tr>\n",
              "      <th>Male</th>\n",
              "      <td>2625</td>\n",
              "    </tr>\n",
              "  </tbody>\n",
              "</table>\n",
              "</div>"
            ],
            "text/plain": [
              "        Churn\n",
              "gender       \n",
              "Female   2549\n",
              "Male     2625"
            ]
          },
          "metadata": {
            "tags": []
          },
          "execution_count": 14
        }
      ]
    },
    {
      "cell_type": "code",
      "metadata": {
        "colab": {
          "base_uri": "https://localhost:8080/",
          "height": 195
        },
        "id": "cJdjU7VEvTpB",
        "outputId": "b7b0d2fe-98cc-4cbf-d986-97c3b3e0bfce"
      },
      "source": [
        "data.groupby([\"gender\", \"Churn\"]).agg({\"tenure\" : \"mean\"})              ### They were grouped by gender variable and looked at how many years on average they were clients."
      ],
      "execution_count": null,
      "outputs": [
        {
          "output_type": "execute_result",
          "data": {
            "text/html": [
              "<div>\n",
              "<style scoped>\n",
              "    .dataframe tbody tr th:only-of-type {\n",
              "        vertical-align: middle;\n",
              "    }\n",
              "\n",
              "    .dataframe tbody tr th {\n",
              "        vertical-align: top;\n",
              "    }\n",
              "\n",
              "    .dataframe thead th {\n",
              "        text-align: right;\n",
              "    }\n",
              "</style>\n",
              "<table border=\"1\" class=\"dataframe\">\n",
              "  <thead>\n",
              "    <tr style=\"text-align: right;\">\n",
              "      <th></th>\n",
              "      <th></th>\n",
              "      <th>tenure</th>\n",
              "    </tr>\n",
              "    <tr>\n",
              "      <th>gender</th>\n",
              "      <th>Churn</th>\n",
              "      <th></th>\n",
              "    </tr>\n",
              "  </thead>\n",
              "  <tbody>\n",
              "    <tr>\n",
              "      <th rowspan=\"2\" valign=\"top\">Female</th>\n",
              "      <th>0</th>\n",
              "      <td>37.858768</td>\n",
              "    </tr>\n",
              "    <tr>\n",
              "      <th>1</th>\n",
              "      <td>17.004260</td>\n",
              "    </tr>\n",
              "    <tr>\n",
              "      <th rowspan=\"2\" valign=\"top\">Male</th>\n",
              "      <th>0</th>\n",
              "      <td>37.289524</td>\n",
              "    </tr>\n",
              "    <tr>\n",
              "      <th>1</th>\n",
              "      <td>18.963441</td>\n",
              "    </tr>\n",
              "  </tbody>\n",
              "</table>\n",
              "</div>"
            ],
            "text/plain": [
              "                 tenure\n",
              "gender Churn           \n",
              "Female 0      37.858768\n",
              "       1      17.004260\n",
              "Male   0      37.289524\n",
              "       1      18.963441"
            ]
          },
          "metadata": {
            "tags": []
          },
          "execution_count": 15
        }
      ]
    },
    {
      "cell_type": "code",
      "metadata": {
        "colab": {
          "base_uri": "https://localhost:8080/",
          "height": 186
        },
        "id": "ftCSv-39vvpZ",
        "outputId": "fb60406a-ef1c-4368-a032-b10901ce7bb9"
      },
      "source": [
        "data.groupby(\"Churn\").agg([\"min\",\"mean\",\"max\"])             ### Min, mean and max values ​​of all variables were taken according to the dependent variable."
      ],
      "execution_count": null,
      "outputs": [
        {
          "output_type": "execute_result",
          "data": {
            "text/html": [
              "<div>\n",
              "<style scoped>\n",
              "    .dataframe tbody tr th:only-of-type {\n",
              "        vertical-align: middle;\n",
              "    }\n",
              "\n",
              "    .dataframe tbody tr th {\n",
              "        vertical-align: top;\n",
              "    }\n",
              "\n",
              "    .dataframe thead tr th {\n",
              "        text-align: left;\n",
              "    }\n",
              "\n",
              "    .dataframe thead tr:last-of-type th {\n",
              "        text-align: right;\n",
              "    }\n",
              "</style>\n",
              "<table border=\"1\" class=\"dataframe\">\n",
              "  <thead>\n",
              "    <tr>\n",
              "      <th></th>\n",
              "      <th colspan=\"3\" halign=\"left\">SeniorCitizen</th>\n",
              "      <th colspan=\"3\" halign=\"left\">Partner</th>\n",
              "      <th colspan=\"3\" halign=\"left\">Dependents</th>\n",
              "      <th colspan=\"3\" halign=\"left\">tenure</th>\n",
              "      <th colspan=\"3\" halign=\"left\">PhoneService</th>\n",
              "      <th colspan=\"3\" halign=\"left\">MultipleLines</th>\n",
              "      <th colspan=\"3\" halign=\"left\">OnlineSecurity</th>\n",
              "      <th colspan=\"3\" halign=\"left\">OnlineBackup</th>\n",
              "      <th colspan=\"3\" halign=\"left\">DeviceProtection</th>\n",
              "      <th colspan=\"3\" halign=\"left\">TechSupport</th>\n",
              "      <th colspan=\"3\" halign=\"left\">StreamingTV</th>\n",
              "      <th colspan=\"3\" halign=\"left\">StreamingMovies</th>\n",
              "      <th colspan=\"3\" halign=\"left\">PaperlessBilling</th>\n",
              "      <th colspan=\"3\" halign=\"left\">MonthlyCharges</th>\n",
              "      <th colspan=\"3\" halign=\"left\">TotalCharges</th>\n",
              "    </tr>\n",
              "    <tr>\n",
              "      <th></th>\n",
              "      <th>min</th>\n",
              "      <th>mean</th>\n",
              "      <th>max</th>\n",
              "      <th>min</th>\n",
              "      <th>mean</th>\n",
              "      <th>max</th>\n",
              "      <th>min</th>\n",
              "      <th>mean</th>\n",
              "      <th>max</th>\n",
              "      <th>min</th>\n",
              "      <th>mean</th>\n",
              "      <th>max</th>\n",
              "      <th>min</th>\n",
              "      <th>mean</th>\n",
              "      <th>max</th>\n",
              "      <th>min</th>\n",
              "      <th>mean</th>\n",
              "      <th>max</th>\n",
              "      <th>min</th>\n",
              "      <th>mean</th>\n",
              "      <th>max</th>\n",
              "      <th>min</th>\n",
              "      <th>mean</th>\n",
              "      <th>max</th>\n",
              "      <th>min</th>\n",
              "      <th>mean</th>\n",
              "      <th>max</th>\n",
              "      <th>min</th>\n",
              "      <th>mean</th>\n",
              "      <th>max</th>\n",
              "      <th>min</th>\n",
              "      <th>mean</th>\n",
              "      <th>max</th>\n",
              "      <th>min</th>\n",
              "      <th>mean</th>\n",
              "      <th>max</th>\n",
              "      <th>min</th>\n",
              "      <th>mean</th>\n",
              "      <th>max</th>\n",
              "      <th>min</th>\n",
              "      <th>mean</th>\n",
              "      <th>max</th>\n",
              "      <th>min</th>\n",
              "      <th>mean</th>\n",
              "      <th>max</th>\n",
              "    </tr>\n",
              "    <tr>\n",
              "      <th>Churn</th>\n",
              "      <th></th>\n",
              "      <th></th>\n",
              "      <th></th>\n",
              "      <th></th>\n",
              "      <th></th>\n",
              "      <th></th>\n",
              "      <th></th>\n",
              "      <th></th>\n",
              "      <th></th>\n",
              "      <th></th>\n",
              "      <th></th>\n",
              "      <th></th>\n",
              "      <th></th>\n",
              "      <th></th>\n",
              "      <th></th>\n",
              "      <th></th>\n",
              "      <th></th>\n",
              "      <th></th>\n",
              "      <th></th>\n",
              "      <th></th>\n",
              "      <th></th>\n",
              "      <th></th>\n",
              "      <th></th>\n",
              "      <th></th>\n",
              "      <th></th>\n",
              "      <th></th>\n",
              "      <th></th>\n",
              "      <th></th>\n",
              "      <th></th>\n",
              "      <th></th>\n",
              "      <th></th>\n",
              "      <th></th>\n",
              "      <th></th>\n",
              "      <th></th>\n",
              "      <th></th>\n",
              "      <th></th>\n",
              "      <th></th>\n",
              "      <th></th>\n",
              "      <th></th>\n",
              "      <th></th>\n",
              "      <th></th>\n",
              "      <th></th>\n",
              "      <th></th>\n",
              "      <th></th>\n",
              "      <th></th>\n",
              "    </tr>\n",
              "  </thead>\n",
              "  <tbody>\n",
              "    <tr>\n",
              "      <th>0</th>\n",
              "      <td>False</td>\n",
              "      <td>0.128721</td>\n",
              "      <td>True</td>\n",
              "      <td>0</td>\n",
              "      <td>0.528218</td>\n",
              "      <td>1</td>\n",
              "      <td>0</td>\n",
              "      <td>0.344801</td>\n",
              "      <td>1</td>\n",
              "      <td>0</td>\n",
              "      <td>37.569965</td>\n",
              "      <td>72</td>\n",
              "      <td>0</td>\n",
              "      <td>0.901044</td>\n",
              "      <td>1</td>\n",
              "      <td>0</td>\n",
              "      <td>0.409934</td>\n",
              "      <td>1</td>\n",
              "      <td>0</td>\n",
              "      <td>0.333204</td>\n",
              "      <td>1</td>\n",
              "      <td>0</td>\n",
              "      <td>0.368380</td>\n",
              "      <td>1</td>\n",
              "      <td>0</td>\n",
              "      <td>0.362775</td>\n",
              "      <td>1</td>\n",
              "      <td>0</td>\n",
              "      <td>0.335137</td>\n",
              "      <td>1</td>\n",
              "      <td>0</td>\n",
              "      <td>0.365868</td>\n",
              "      <td>1</td>\n",
              "      <td>0</td>\n",
              "      <td>0.369927</td>\n",
              "      <td>1</td>\n",
              "      <td>0</td>\n",
              "      <td>0.535562</td>\n",
              "      <td>1</td>\n",
              "      <td>18.25</td>\n",
              "      <td>61.265124</td>\n",
              "      <td>118.75</td>\n",
              "      <td>18.80</td>\n",
              "      <td>2555.344141</td>\n",
              "      <td>8672.45</td>\n",
              "    </tr>\n",
              "    <tr>\n",
              "      <th>1</th>\n",
              "      <td>False</td>\n",
              "      <td>0.254682</td>\n",
              "      <td>True</td>\n",
              "      <td>0</td>\n",
              "      <td>0.357945</td>\n",
              "      <td>1</td>\n",
              "      <td>0</td>\n",
              "      <td>0.174425</td>\n",
              "      <td>1</td>\n",
              "      <td>1</td>\n",
              "      <td>17.979133</td>\n",
              "      <td>72</td>\n",
              "      <td>0</td>\n",
              "      <td>0.909042</td>\n",
              "      <td>1</td>\n",
              "      <td>0</td>\n",
              "      <td>0.454789</td>\n",
              "      <td>1</td>\n",
              "      <td>0</td>\n",
              "      <td>0.157838</td>\n",
              "      <td>1</td>\n",
              "      <td>0</td>\n",
              "      <td>0.279829</td>\n",
              "      <td>1</td>\n",
              "      <td>0</td>\n",
              "      <td>0.291600</td>\n",
              "      <td>1</td>\n",
              "      <td>0</td>\n",
              "      <td>0.165864</td>\n",
              "      <td>1</td>\n",
              "      <td>0</td>\n",
              "      <td>0.435527</td>\n",
              "      <td>1</td>\n",
              "      <td>0</td>\n",
              "      <td>0.437667</td>\n",
              "      <td>1</td>\n",
              "      <td>0</td>\n",
              "      <td>0.749064</td>\n",
              "      <td>1</td>\n",
              "      <td>18.85</td>\n",
              "      <td>74.441332</td>\n",
              "      <td>118.35</td>\n",
              "      <td>18.85</td>\n",
              "      <td>1531.796094</td>\n",
              "      <td>8684.80</td>\n",
              "    </tr>\n",
              "  </tbody>\n",
              "</table>\n",
              "</div>"
            ],
            "text/plain": [
              "      SeniorCitizen                  ... TotalCharges                      \n",
              "                min      mean   max  ...          min         mean      max\n",
              "Churn                                ...                                   \n",
              "0             False  0.128721  True  ...        18.80  2555.344141  8672.45\n",
              "1             False  0.254682  True  ...        18.85  1531.796094  8684.80\n",
              "\n",
              "[2 rows x 45 columns]"
            ]
          },
          "metadata": {
            "tags": []
          },
          "execution_count": 16
        }
      ]
    },
    {
      "cell_type": "code",
      "metadata": {
        "colab": {
          "base_uri": "https://localhost:8080/"
        },
        "id": "DobeKBqJdSG1",
        "outputId": "e41ff1ef-4d91-479a-e81d-3434a6f75cc6"
      },
      "source": [
        "data.nunique()                 ### Unique observation units were examined."
      ],
      "execution_count": null,
      "outputs": [
        {
          "output_type": "execute_result",
          "data": {
            "text/plain": [
              "customerID          7043\n",
              "gender                 2\n",
              "SeniorCitizen          2\n",
              "Partner                2\n",
              "Dependents             2\n",
              "tenure                73\n",
              "PhoneService           2\n",
              "MultipleLines          2\n",
              "InternetService        3\n",
              "OnlineSecurity         2\n",
              "OnlineBackup           2\n",
              "DeviceProtection       2\n",
              "TechSupport            2\n",
              "StreamingTV            2\n",
              "StreamingMovies        2\n",
              "Contract               3\n",
              "PaperlessBilling       2\n",
              "PaymentMethod          4\n",
              "MonthlyCharges      1585\n",
              "TotalCharges        6530\n",
              "Churn                  2\n",
              "dtype: int64"
            ]
          },
          "metadata": {
            "tags": []
          },
          "execution_count": 17
        }
      ]
    },
    {
      "cell_type": "code",
      "metadata": {
        "colab": {
          "base_uri": "https://localhost:8080/",
          "height": 541
        },
        "id": "0uPEOsLK8jwo",
        "outputId": "c1beade6-7f05-412f-ee96-b06a4666cd7c"
      },
      "source": [
        "## Access to the correlation of the data set was provided. What kind of relationship is examined between the variables. \n",
        "## If the correlation value is> 0, there is a positive correlation. While the value of one variable increases, the value of the other variable also increases.\n",
        "## Correlation = 0 means no correlation.\n",
        "## If the correlation is <0, there is a negative correlation. While one variable increases, the other variable decreases. \n",
        "\n",
        "data.corr()"
      ],
      "execution_count": null,
      "outputs": [
        {
          "output_type": "execute_result",
          "data": {
            "text/html": [
              "<div>\n",
              "<style scoped>\n",
              "    .dataframe tbody tr th:only-of-type {\n",
              "        vertical-align: middle;\n",
              "    }\n",
              "\n",
              "    .dataframe tbody tr th {\n",
              "        vertical-align: top;\n",
              "    }\n",
              "\n",
              "    .dataframe thead th {\n",
              "        text-align: right;\n",
              "    }\n",
              "</style>\n",
              "<table border=\"1\" class=\"dataframe\">\n",
              "  <thead>\n",
              "    <tr style=\"text-align: right;\">\n",
              "      <th></th>\n",
              "      <th>SeniorCitizen</th>\n",
              "      <th>Partner</th>\n",
              "      <th>Dependents</th>\n",
              "      <th>tenure</th>\n",
              "      <th>PhoneService</th>\n",
              "      <th>MultipleLines</th>\n",
              "      <th>OnlineSecurity</th>\n",
              "      <th>OnlineBackup</th>\n",
              "      <th>DeviceProtection</th>\n",
              "      <th>TechSupport</th>\n",
              "      <th>StreamingTV</th>\n",
              "      <th>StreamingMovies</th>\n",
              "      <th>PaperlessBilling</th>\n",
              "      <th>MonthlyCharges</th>\n",
              "      <th>TotalCharges</th>\n",
              "      <th>Churn</th>\n",
              "    </tr>\n",
              "  </thead>\n",
              "  <tbody>\n",
              "    <tr>\n",
              "      <th>SeniorCitizen</th>\n",
              "      <td>1.000000</td>\n",
              "      <td>0.016479</td>\n",
              "      <td>-0.211185</td>\n",
              "      <td>0.016567</td>\n",
              "      <td>0.008576</td>\n",
              "      <td>0.142948</td>\n",
              "      <td>-0.038653</td>\n",
              "      <td>0.066572</td>\n",
              "      <td>0.059428</td>\n",
              "      <td>-0.060625</td>\n",
              "      <td>0.105378</td>\n",
              "      <td>0.120176</td>\n",
              "      <td>0.156530</td>\n",
              "      <td>0.220173</td>\n",
              "      <td>0.102411</td>\n",
              "      <td>0.150889</td>\n",
              "    </tr>\n",
              "    <tr>\n",
              "      <th>Partner</th>\n",
              "      <td>0.016479</td>\n",
              "      <td>1.000000</td>\n",
              "      <td>0.452676</td>\n",
              "      <td>0.379697</td>\n",
              "      <td>0.017706</td>\n",
              "      <td>0.142057</td>\n",
              "      <td>0.143106</td>\n",
              "      <td>0.141498</td>\n",
              "      <td>0.153786</td>\n",
              "      <td>0.119999</td>\n",
              "      <td>0.124666</td>\n",
              "      <td>0.117412</td>\n",
              "      <td>-0.014877</td>\n",
              "      <td>0.096848</td>\n",
              "      <td>0.319072</td>\n",
              "      <td>-0.150448</td>\n",
              "    </tr>\n",
              "    <tr>\n",
              "      <th>Dependents</th>\n",
              "      <td>-0.211185</td>\n",
              "      <td>0.452676</td>\n",
              "      <td>1.000000</td>\n",
              "      <td>0.159712</td>\n",
              "      <td>-0.001762</td>\n",
              "      <td>-0.024526</td>\n",
              "      <td>0.080972</td>\n",
              "      <td>0.023671</td>\n",
              "      <td>0.013963</td>\n",
              "      <td>0.063268</td>\n",
              "      <td>-0.016558</td>\n",
              "      <td>-0.039741</td>\n",
              "      <td>-0.111377</td>\n",
              "      <td>-0.113890</td>\n",
              "      <td>0.064653</td>\n",
              "      <td>-0.164221</td>\n",
              "    </tr>\n",
              "    <tr>\n",
              "      <th>tenure</th>\n",
              "      <td>0.016567</td>\n",
              "      <td>0.379697</td>\n",
              "      <td>0.159712</td>\n",
              "      <td>1.000000</td>\n",
              "      <td>0.008448</td>\n",
              "      <td>0.331941</td>\n",
              "      <td>0.327203</td>\n",
              "      <td>0.360277</td>\n",
              "      <td>0.360653</td>\n",
              "      <td>0.324221</td>\n",
              "      <td>0.279756</td>\n",
              "      <td>0.286111</td>\n",
              "      <td>0.006152</td>\n",
              "      <td>0.247900</td>\n",
              "      <td>0.825880</td>\n",
              "      <td>-0.352229</td>\n",
              "    </tr>\n",
              "    <tr>\n",
              "      <th>PhoneService</th>\n",
              "      <td>0.008576</td>\n",
              "      <td>0.017706</td>\n",
              "      <td>-0.001762</td>\n",
              "      <td>0.008448</td>\n",
              "      <td>1.000000</td>\n",
              "      <td>0.279690</td>\n",
              "      <td>-0.092893</td>\n",
              "      <td>-0.052312</td>\n",
              "      <td>-0.071227</td>\n",
              "      <td>-0.096340</td>\n",
              "      <td>-0.022574</td>\n",
              "      <td>-0.032959</td>\n",
              "      <td>0.016505</td>\n",
              "      <td>0.247398</td>\n",
              "      <td>0.113008</td>\n",
              "      <td>0.011942</td>\n",
              "    </tr>\n",
              "    <tr>\n",
              "      <th>MultipleLines</th>\n",
              "      <td>0.142948</td>\n",
              "      <td>0.142057</td>\n",
              "      <td>-0.024526</td>\n",
              "      <td>0.331941</td>\n",
              "      <td>0.279690</td>\n",
              "      <td>1.000000</td>\n",
              "      <td>0.098108</td>\n",
              "      <td>0.202237</td>\n",
              "      <td>0.201137</td>\n",
              "      <td>0.100571</td>\n",
              "      <td>0.257152</td>\n",
              "      <td>0.258751</td>\n",
              "      <td>0.163530</td>\n",
              "      <td>0.490434</td>\n",
              "      <td>0.469042</td>\n",
              "      <td>0.040102</td>\n",
              "    </tr>\n",
              "    <tr>\n",
              "      <th>OnlineSecurity</th>\n",
              "      <td>-0.038653</td>\n",
              "      <td>0.143106</td>\n",
              "      <td>0.080972</td>\n",
              "      <td>0.327203</td>\n",
              "      <td>-0.092893</td>\n",
              "      <td>0.098108</td>\n",
              "      <td>1.000000</td>\n",
              "      <td>0.283832</td>\n",
              "      <td>0.275438</td>\n",
              "      <td>0.354931</td>\n",
              "      <td>0.176207</td>\n",
              "      <td>0.187398</td>\n",
              "      <td>-0.003636</td>\n",
              "      <td>0.296594</td>\n",
              "      <td>0.412619</td>\n",
              "      <td>-0.171226</td>\n",
              "    </tr>\n",
              "    <tr>\n",
              "      <th>OnlineBackup</th>\n",
              "      <td>0.066572</td>\n",
              "      <td>0.141498</td>\n",
              "      <td>0.023671</td>\n",
              "      <td>0.360277</td>\n",
              "      <td>-0.052312</td>\n",
              "      <td>0.202237</td>\n",
              "      <td>0.283832</td>\n",
              "      <td>1.000000</td>\n",
              "      <td>0.303546</td>\n",
              "      <td>0.294233</td>\n",
              "      <td>0.282106</td>\n",
              "      <td>0.274501</td>\n",
              "      <td>0.126735</td>\n",
              "      <td>0.441780</td>\n",
              "      <td>0.510100</td>\n",
              "      <td>-0.082255</td>\n",
              "    </tr>\n",
              "    <tr>\n",
              "      <th>DeviceProtection</th>\n",
              "      <td>0.059428</td>\n",
              "      <td>0.153786</td>\n",
              "      <td>0.013963</td>\n",
              "      <td>0.360653</td>\n",
              "      <td>-0.071227</td>\n",
              "      <td>0.201137</td>\n",
              "      <td>0.275438</td>\n",
              "      <td>0.303546</td>\n",
              "      <td>1.000000</td>\n",
              "      <td>0.333313</td>\n",
              "      <td>0.390874</td>\n",
              "      <td>0.402111</td>\n",
              "      <td>0.103797</td>\n",
              "      <td>0.482692</td>\n",
              "      <td>0.522881</td>\n",
              "      <td>-0.066160</td>\n",
              "    </tr>\n",
              "    <tr>\n",
              "      <th>TechSupport</th>\n",
              "      <td>-0.060625</td>\n",
              "      <td>0.119999</td>\n",
              "      <td>0.063268</td>\n",
              "      <td>0.324221</td>\n",
              "      <td>-0.096340</td>\n",
              "      <td>0.100571</td>\n",
              "      <td>0.354931</td>\n",
              "      <td>0.294233</td>\n",
              "      <td>0.333313</td>\n",
              "      <td>1.000000</td>\n",
              "      <td>0.278070</td>\n",
              "      <td>0.279358</td>\n",
              "      <td>0.037880</td>\n",
              "      <td>0.338304</td>\n",
              "      <td>0.432868</td>\n",
              "      <td>-0.164674</td>\n",
              "    </tr>\n",
              "    <tr>\n",
              "      <th>StreamingTV</th>\n",
              "      <td>0.105378</td>\n",
              "      <td>0.124666</td>\n",
              "      <td>-0.016558</td>\n",
              "      <td>0.279756</td>\n",
              "      <td>-0.022574</td>\n",
              "      <td>0.257152</td>\n",
              "      <td>0.176207</td>\n",
              "      <td>0.282106</td>\n",
              "      <td>0.390874</td>\n",
              "      <td>0.278070</td>\n",
              "      <td>1.000000</td>\n",
              "      <td>0.533094</td>\n",
              "      <td>0.223841</td>\n",
              "      <td>0.629603</td>\n",
              "      <td>0.515709</td>\n",
              "      <td>0.063228</td>\n",
              "    </tr>\n",
              "    <tr>\n",
              "      <th>StreamingMovies</th>\n",
              "      <td>0.120176</td>\n",
              "      <td>0.117412</td>\n",
              "      <td>-0.039741</td>\n",
              "      <td>0.286111</td>\n",
              "      <td>-0.032959</td>\n",
              "      <td>0.258751</td>\n",
              "      <td>0.187398</td>\n",
              "      <td>0.274501</td>\n",
              "      <td>0.402111</td>\n",
              "      <td>0.279358</td>\n",
              "      <td>0.533094</td>\n",
              "      <td>1.000000</td>\n",
              "      <td>0.211716</td>\n",
              "      <td>0.627429</td>\n",
              "      <td>0.519867</td>\n",
              "      <td>0.061382</td>\n",
              "    </tr>\n",
              "    <tr>\n",
              "      <th>PaperlessBilling</th>\n",
              "      <td>0.156530</td>\n",
              "      <td>-0.014877</td>\n",
              "      <td>-0.111377</td>\n",
              "      <td>0.006152</td>\n",
              "      <td>0.016505</td>\n",
              "      <td>0.163530</td>\n",
              "      <td>-0.003636</td>\n",
              "      <td>0.126735</td>\n",
              "      <td>0.103797</td>\n",
              "      <td>0.037880</td>\n",
              "      <td>0.223841</td>\n",
              "      <td>0.211716</td>\n",
              "      <td>1.000000</td>\n",
              "      <td>0.352150</td>\n",
              "      <td>0.157830</td>\n",
              "      <td>0.191825</td>\n",
              "    </tr>\n",
              "    <tr>\n",
              "      <th>MonthlyCharges</th>\n",
              "      <td>0.220173</td>\n",
              "      <td>0.096848</td>\n",
              "      <td>-0.113890</td>\n",
              "      <td>0.247900</td>\n",
              "      <td>0.247398</td>\n",
              "      <td>0.490434</td>\n",
              "      <td>0.296594</td>\n",
              "      <td>0.441780</td>\n",
              "      <td>0.482692</td>\n",
              "      <td>0.338304</td>\n",
              "      <td>0.629603</td>\n",
              "      <td>0.627429</td>\n",
              "      <td>0.352150</td>\n",
              "      <td>1.000000</td>\n",
              "      <td>0.651065</td>\n",
              "      <td>0.193356</td>\n",
              "    </tr>\n",
              "    <tr>\n",
              "      <th>TotalCharges</th>\n",
              "      <td>0.102411</td>\n",
              "      <td>0.319072</td>\n",
              "      <td>0.064653</td>\n",
              "      <td>0.825880</td>\n",
              "      <td>0.113008</td>\n",
              "      <td>0.469042</td>\n",
              "      <td>0.412619</td>\n",
              "      <td>0.510100</td>\n",
              "      <td>0.522881</td>\n",
              "      <td>0.432868</td>\n",
              "      <td>0.515709</td>\n",
              "      <td>0.519867</td>\n",
              "      <td>0.157830</td>\n",
              "      <td>0.651065</td>\n",
              "      <td>1.000000</td>\n",
              "      <td>-0.199484</td>\n",
              "    </tr>\n",
              "    <tr>\n",
              "      <th>Churn</th>\n",
              "      <td>0.150889</td>\n",
              "      <td>-0.150448</td>\n",
              "      <td>-0.164221</td>\n",
              "      <td>-0.352229</td>\n",
              "      <td>0.011942</td>\n",
              "      <td>0.040102</td>\n",
              "      <td>-0.171226</td>\n",
              "      <td>-0.082255</td>\n",
              "      <td>-0.066160</td>\n",
              "      <td>-0.164674</td>\n",
              "      <td>0.063228</td>\n",
              "      <td>0.061382</td>\n",
              "      <td>0.191825</td>\n",
              "      <td>0.193356</td>\n",
              "      <td>-0.199484</td>\n",
              "      <td>1.000000</td>\n",
              "    </tr>\n",
              "  </tbody>\n",
              "</table>\n",
              "</div>"
            ],
            "text/plain": [
              "                  SeniorCitizen   Partner  ...  TotalCharges     Churn\n",
              "SeniorCitizen          1.000000  0.016479  ...      0.102411  0.150889\n",
              "Partner                0.016479  1.000000  ...      0.319072 -0.150448\n",
              "Dependents            -0.211185  0.452676  ...      0.064653 -0.164221\n",
              "tenure                 0.016567  0.379697  ...      0.825880 -0.352229\n",
              "PhoneService           0.008576  0.017706  ...      0.113008  0.011942\n",
              "MultipleLines          0.142948  0.142057  ...      0.469042  0.040102\n",
              "OnlineSecurity        -0.038653  0.143106  ...      0.412619 -0.171226\n",
              "OnlineBackup           0.066572  0.141498  ...      0.510100 -0.082255\n",
              "DeviceProtection       0.059428  0.153786  ...      0.522881 -0.066160\n",
              "TechSupport           -0.060625  0.119999  ...      0.432868 -0.164674\n",
              "StreamingTV            0.105378  0.124666  ...      0.515709  0.063228\n",
              "StreamingMovies        0.120176  0.117412  ...      0.519867  0.061382\n",
              "PaperlessBilling       0.156530 -0.014877  ...      0.157830  0.191825\n",
              "MonthlyCharges         0.220173  0.096848  ...      0.651065  0.193356\n",
              "TotalCharges           0.102411  0.319072  ...      1.000000 -0.199484\n",
              "Churn                  0.150889 -0.150448  ...     -0.199484  1.000000\n",
              "\n",
              "[16 rows x 16 columns]"
            ]
          },
          "metadata": {
            "tags": []
          },
          "execution_count": 18
        }
      ]
    },
    {
      "cell_type": "markdown",
      "metadata": {
        "id": "qHiTsqMp9V04"
      },
      "source": [
        "## **Data** **Visualization**"
      ]
    },
    {
      "cell_type": "code",
      "metadata": {
        "colab": {
          "base_uri": "https://localhost:8080/",
          "height": 566
        },
        "id": "Y1pKqJrd8od5",
        "outputId": "89632a8c-30d7-425f-fa19-684b32c5f807"
      },
      "source": [
        "### The distribution of the dependent variable in the dataset is plotted as pie and columns graphs.\n",
        "f,ax=plt.subplots(1,2,figsize=(18,8))\n",
        "data['Churn'].value_counts().plot.pie(explode=[0,0.1],autopct='%1.1f%%',ax=ax[0],shadow=True)\n",
        "ax[0].set_title('dağılım')\n",
        "ax[0].set_ylabel('')\n",
        "sns.countplot('Churn',data=data,ax=ax[1])\n",
        "ax[1].set_title('Churn')\n",
        "plt.show()"
      ],
      "execution_count": null,
      "outputs": [
        {
          "output_type": "stream",
          "text": [
            "/usr/local/lib/python3.7/dist-packages/seaborn/_decorators.py:43: FutureWarning: Pass the following variable as a keyword arg: x. From version 0.12, the only valid positional argument will be `data`, and passing other arguments without an explicit keyword will result in an error or misinterpretation.\n",
            "  FutureWarning\n"
          ],
          "name": "stderr"
        },
        {
          "output_type": "display_data",
          "data": {
            "image/png": "[encoded data removed]",
            "text/plain": [
              "<Figure size 1296x576 with 2 Axes>"
            ]
          },
          "metadata": {
            "tags": [],
            "needs_background": "light"
          }
        }
      ]
    },
    {
      "cell_type": "code",
      "metadata": {
        "colab": {
          "base_uri": "https://localhost:8080/",
          "height": 583
        },
        "id": "D2xrq-gR83dw",
        "outputId": "fd979595-ad48-4049-ca85-59044c2f57e9"
      },
      "source": [
        "#### Plotted the categorical variables on the basis of the graph of the column according to the dependent variable.\n",
        "fig, axarr = plt.subplots(2, 3, figsize=(30, 15))\n",
        "sns.countplot(x='gender', hue = 'Churn',data = data, ax=axarr[0][0])\n",
        "sns.countplot(x='SeniorCitizen', hue = 'Churn',data = data, ax=axarr[0][1])\n",
        "sns.countplot(x='InternetService', hue = 'Churn',data = data, ax=axarr[0][2])\n",
        "sns.countplot(x='Contract', hue = 'Churn',data = data, ax=axarr[1][0])\n",
        "sns.countplot(x='PaymentMethod', hue = 'Churn',data = data, ax=axarr[1][1])\n",
        "\n",
        "\n"
      ],
      "execution_count": null,
      "outputs": [
        {
          "output_type": "execute_result",
          "data": {
            "text/plain": [
              "<matplotlib.axes._subplots.AxesSubplot at 0x7f6d379b5750>"
            ]
          },
          "metadata": {
            "tags": []
          },
          "execution_count": 20
        },
        {
          "output_type": "display_data",
          "data": {
            "image/png": "[encoded data removed]",
            "text/plain": [
              "<Figure size 2160x1080 with 6 Axes>"
            ]
          },
          "metadata": {
            "tags": [],
            "needs_background": "light"
          }
        }
      ]
    },
    {
      "cell_type": "code",
      "metadata": {
        "colab": {
          "base_uri": "https://localhost:8080/",
          "height": 949
        },
        "id": "Egd96epZJPJk",
        "outputId": "9dd33c08-b4ad-4b58-ea8f-a40b8f64db5c"
      },
      "source": [
        "## Correlation Matrix\n",
        "\n",
        "f, ax = plt.subplots(figsize= [20,15])\n",
        "sns.heatmap(data.corr(), annot=True, fmt=\".2f\", ax=ax, cmap = \"magma\" )\n",
        "ax.set_title(\"Correlation Matrix\", fontsize=20)\n",
        "plt.show()\n"
      ],
      "execution_count": null,
      "outputs": [
        {
          "output_type": "display_data",
          "data": {
            "image/png": "[encoded data removed]",
            "text/plain": [
              "<Figure size 1440x1080 with 2 Axes>"
            ]
          },
          "metadata": {
            "tags": [],
            "needs_background": "light"
          }
        }
      ]
    },
    {
      "cell_type": "code",
      "metadata": {
        "colab": {
          "base_uri": "https://localhost:8080/",
          "height": 690
        },
        "id": "Bg4zWsHIJyfe",
        "outputId": "869ff4ed-2d7e-4df0-91a8-427bdf7172ae"
      },
      "source": [
        "## # Boxplot graph for outlier observation analysis\n",
        "\n",
        "fig, axarr = plt.subplots(2, 2, figsize=(20, 12))\n",
        "sns.boxplot(y='tenure',x = 'Churn', hue = 'Churn',data = data, ax=axarr[0][0])\n",
        "sns.boxplot(y='MonthlyCharges',x = 'Churn', hue = 'Churn',data = data , ax=axarr[0][1])\n",
        "sns.boxplot(y='TotalCharges',x = 'Churn', hue = 'Churn',data = data, ax=axarr[1][0])\n"
      ],
      "execution_count": null,
      "outputs": [
        {
          "output_type": "execute_result",
          "data": {
            "text/plain": [
              "<matplotlib.axes._subplots.AxesSubplot at 0x7f6d2d46b890>"
            ]
          },
          "metadata": {
            "tags": []
          },
          "execution_count": 22
        },
        {
          "output_type": "display_data",
          "data": {
            "image/png": "[encoded data removed]",
            "text/plain": [
              "<Figure size 1440x864 with 4 Axes>"
            ]
          },
          "metadata": {
            "tags": [],
            "needs_background": "light"
          }
        }
      ]
    },
    {
      "cell_type": "markdown",
      "metadata": {
        "id": "zrJ2BAoY-jKV"
      },
      "source": [
        "## **Data** **Manupulation**"
      ]
    },
    {
      "cell_type": "markdown",
      "metadata": {
        "id": "1PndjaeM_LvO"
      },
      "source": [
        "**There are some categorical values which can be encoded as numbers, so we will take a look at unique values present as categories and convert these fields as category and encode them.**"
      ]
    },
    {
      "cell_type": "code",
      "metadata": {
        "colab": {
          "base_uri": "https://localhost:8080/"
        },
        "id": "NMCNqcDY8OdV",
        "outputId": "80ccd20b-4309-4a4b-db99-28ab69d8ffca"
      },
      "source": [
        "print(\"Payment methods: \",data.PaymentMethod.unique())\n",
        "print(\"Contract types: \",data.Contract.unique())\n",
        "print(\"Gender: \",data.gender.unique())\n",
        "print(\"Senior Citizen: \",data.SeniorCitizen.unique())\n",
        "print(\"Internet Service Types: \",data.InternetService.unique())"
      ],
      "execution_count": null,
      "outputs": [
        {
          "output_type": "stream",
          "text": [
            "Payment methods:  ['Electronic check' 'Mailed check' 'Bank transfer (automatic)'\n",
            " 'Credit card (automatic)']\n",
            "Contract types:  ['Month-to-month' 'One year' 'Two year']\n",
            "Gender:  ['Female' 'Male']\n",
            "Senior Citizen:  [False  True]\n",
            "Internet Service Types:  ['DSL' 'Fiber optic' 'No']\n"
          ],
          "name": "stdout"
        }
      ]
    },
    {
      "cell_type": "code",
      "metadata": {
        "colab": {
          "base_uri": "https://localhost:8080/"
        },
        "id": "UsAwVeKX8OdV",
        "outputId": "b6e59e8a-7f80-4e68-8b21-f93a9903e61b"
      },
      "source": [
        "data['gender']=data['gender'].astype('category')\n",
        "data['PaymentMethod']=data['PaymentMethod'].astype('category')\n",
        "data['Contract']=data['Contract'].astype('category')\n",
        "data['SeniorCitizen']=data['SeniorCitizen'].astype('category')\n",
        "data['InternetService']=data['InternetService'].astype('category')\n",
        "data.dtypes"
      ],
      "execution_count": null,
      "outputs": [
        {
          "output_type": "execute_result",
          "data": {
            "text/plain": [
              "customerID            object\n",
              "gender              category\n",
              "SeniorCitizen       category\n",
              "Partner                int64\n",
              "Dependents             int64\n",
              "tenure                 int64\n",
              "PhoneService           int64\n",
              "MultipleLines          int64\n",
              "InternetService     category\n",
              "OnlineSecurity         int64\n",
              "OnlineBackup           int64\n",
              "DeviceProtection       int64\n",
              "TechSupport            int64\n",
              "StreamingTV            int64\n",
              "StreamingMovies        int64\n",
              "Contract            category\n",
              "PaperlessBilling       int64\n",
              "PaymentMethod       category\n",
              "MonthlyCharges       float64\n",
              "TotalCharges         float64\n",
              "Churn                  int64\n",
              "dtype: object"
            ]
          },
          "metadata": {
            "tags": []
          },
          "execution_count": 24
        }
      ]
    },
    {
      "cell_type": "markdown",
      "metadata": {
        "id": "4cyW_Psh_bA1"
      },
      "source": [
        "**Here we have encoded fields with numbers by pandas build-in get_dummies method, and using that method we need to give prefix for new fields which will be generated.**\n",
        "**This method will generate new fields with prefix and category name as column name and 0 or 1 will be their value.**\n"
      ]
    },
    {
      "cell_type": "code",
      "metadata": {
        "id": "bgZR2cJn8OdV"
      },
      "source": [
        "dataPaymentDummies = pd.get_dummies(data['PaymentMethod'], prefix = 'payment')\n",
        "dataContractDummies = pd.get_dummies(data['Contract'], prefix = 'contract')\n",
        "dataGenderDummies = pd.get_dummies(data['gender'], prefix = 'gender')\n",
        "dataSeniorCitizenDummies = pd.get_dummies(data['SeniorCitizen'], prefix = 'SC')\n",
        "dataInternetServiceDummies = pd.get_dummies(data['InternetService'], prefix = 'IS')\n",
        "\n"
      ],
      "execution_count": null,
      "outputs": []
    },
    {
      "cell_type": "markdown",
      "metadata": {
        "id": "IxunqddL_pFP"
      },
      "source": [
        "**As we can see below, we got all the new fields with values as 0 or 1.**"
      ]
    },
    {
      "cell_type": "code",
      "metadata": {
        "colab": {
          "base_uri": "https://localhost:8080/"
        },
        "id": "7m5CtHNX8OdW",
        "outputId": "4293bf30-7fb2-49d1-c71c-62668502f7a8"
      },
      "source": [
        "print(dataPaymentDummies.head())\n",
        "print(dataContractDummies.head())\n",
        "print(dataGenderDummies.head())\n",
        "print(dataSeniorCitizenDummies.head())\n",
        "print(dataInternetServiceDummies.head())"
      ],
      "execution_count": null,
      "outputs": [
        {
          "output_type": "stream",
          "text": [
            "   payment_Bank transfer (automatic)  ...  payment_Mailed check\n",
            "0                                  0  ...                     0\n",
            "1                                  0  ...                     1\n",
            "2                                  0  ...                     1\n",
            "3                                  1  ...                     0\n",
            "4                                  0  ...                     0\n",
            "\n",
            "[5 rows x 4 columns]\n",
            "   contract_Month-to-month  contract_One year  contract_Two year\n",
            "0                        1                  0                  0\n",
            "1                        0                  1                  0\n",
            "2                        1                  0                  0\n",
            "3                        0                  1                  0\n",
            "4                        1                  0                  0\n",
            "   gender_Female  gender_Male\n",
            "0              1            0\n",
            "1              0            1\n",
            "2              0            1\n",
            "3              0            1\n",
            "4              1            0\n",
            "   SC_False  SC_True\n",
            "0         1        0\n",
            "1         1        0\n",
            "2         1        0\n",
            "3         1        0\n",
            "4         1        0\n",
            "   IS_DSL  IS_Fiber optic  IS_No\n",
            "0       1               0      0\n",
            "1       1               0      0\n",
            "2       1               0      0\n",
            "3       1               0      0\n",
            "4       0               1      0\n"
          ],
          "name": "stdout"
        }
      ]
    },
    {
      "cell_type": "markdown",
      "metadata": {
        "id": "vsNj_WRX_8-I"
      },
      "source": [
        "**Now we have new dataframes by label encoding, so we will concat them with our existing dataframe, but before that we will remove category fields as we don't need them right**"
      ]
    },
    {
      "cell_type": "code",
      "metadata": {
        "colab": {
          "base_uri": "https://localhost:8080/",
          "height": 333
        },
        "id": "2SmzuKvz8OdW",
        "outputId": "4bf8d030-be3b-45a9-9b5a-36bba78c6b96"
      },
      "source": [
        "data.drop(['gender','PaymentMethod','Contract','SeniorCitizen','InternetService'], axis=1, inplace=True)\n",
        "\n",
        "data = pd.concat([data, dataPaymentDummies], axis=1)\n",
        "data = pd.concat([data, dataContractDummies], axis=1)\n",
        "data = pd.concat([data, dataGenderDummies], axis=1)\n",
        "data = pd.concat([data, dataSeniorCitizenDummies], axis=1)\n",
        "data = pd.concat([data, dataInternetServiceDummies], axis=1)\n",
        "data.head()"
      ],
      "execution_count": null,
      "outputs": [
        {
          "output_type": "execute_result",
          "data": {
            "text/html": [
              "<div>\n",
              "<style scoped>\n",
              "    .dataframe tbody tr th:only-of-type {\n",
              "        vertical-align: middle;\n",
              "    }\n",
              "\n",
              "    .dataframe tbody tr th {\n",
              "        vertical-align: top;\n",
              "    }\n",
              "\n",
              "    .dataframe thead th {\n",
              "        text-align: right;\n",
              "    }\n",
              "</style>\n",
              "<table border=\"1\" class=\"dataframe\">\n",
              "  <thead>\n",
              "    <tr style=\"text-align: right;\">\n",
              "      <th></th>\n",
              "      <th>customerID</th>\n",
              "      <th>Partner</th>\n",
              "      <th>Dependents</th>\n",
              "      <th>tenure</th>\n",
              "      <th>PhoneService</th>\n",
              "      <th>MultipleLines</th>\n",
              "      <th>OnlineSecurity</th>\n",
              "      <th>OnlineBackup</th>\n",
              "      <th>DeviceProtection</th>\n",
              "      <th>TechSupport</th>\n",
              "      <th>StreamingTV</th>\n",
              "      <th>StreamingMovies</th>\n",
              "      <th>PaperlessBilling</th>\n",
              "      <th>MonthlyCharges</th>\n",
              "      <th>TotalCharges</th>\n",
              "      <th>Churn</th>\n",
              "      <th>payment_Bank transfer (automatic)</th>\n",
              "      <th>payment_Credit card (automatic)</th>\n",
              "      <th>payment_Electronic check</th>\n",
              "      <th>payment_Mailed check</th>\n",
              "      <th>contract_Month-to-month</th>\n",
              "      <th>contract_One year</th>\n",
              "      <th>contract_Two year</th>\n",
              "      <th>gender_Female</th>\n",
              "      <th>gender_Male</th>\n",
              "      <th>SC_False</th>\n",
              "      <th>SC_True</th>\n",
              "      <th>IS_DSL</th>\n",
              "      <th>IS_Fiber optic</th>\n",
              "      <th>IS_No</th>\n",
              "    </tr>\n",
              "  </thead>\n",
              "  <tbody>\n",
              "    <tr>\n",
              "      <th>0</th>\n",
              "      <td>7590-VHVEG</td>\n",
              "      <td>1</td>\n",
              "      <td>0</td>\n",
              "      <td>1</td>\n",
              "      <td>0</td>\n",
              "      <td>0</td>\n",
              "      <td>0</td>\n",
              "      <td>1</td>\n",
              "      <td>0</td>\n",
              "      <td>0</td>\n",
              "      <td>0</td>\n",
              "      <td>0</td>\n",
              "      <td>1</td>\n",
              "      <td>29.85</td>\n",
              "      <td>29.85</td>\n",
              "      <td>0</td>\n",
              "      <td>0</td>\n",
              "      <td>0</td>\n",
              "      <td>1</td>\n",
              "      <td>0</td>\n",
              "      <td>1</td>\n",
              "      <td>0</td>\n",
              "      <td>0</td>\n",
              "      <td>1</td>\n",
              "      <td>0</td>\n",
              "      <td>1</td>\n",
              "      <td>0</td>\n",
              "      <td>1</td>\n",
              "      <td>0</td>\n",
              "      <td>0</td>\n",
              "    </tr>\n",
              "    <tr>\n",
              "      <th>1</th>\n",
              "      <td>5575-GNVDE</td>\n",
              "      <td>0</td>\n",
              "      <td>0</td>\n",
              "      <td>34</td>\n",
              "      <td>1</td>\n",
              "      <td>0</td>\n",
              "      <td>1</td>\n",
              "      <td>0</td>\n",
              "      <td>1</td>\n",
              "      <td>0</td>\n",
              "      <td>0</td>\n",
              "      <td>0</td>\n",
              "      <td>0</td>\n",
              "      <td>56.95</td>\n",
              "      <td>1889.50</td>\n",
              "      <td>0</td>\n",
              "      <td>0</td>\n",
              "      <td>0</td>\n",
              "      <td>0</td>\n",
              "      <td>1</td>\n",
              "      <td>0</td>\n",
              "      <td>1</td>\n",
              "      <td>0</td>\n",
              "      <td>0</td>\n",
              "      <td>1</td>\n",
              "      <td>1</td>\n",
              "      <td>0</td>\n",
              "      <td>1</td>\n",
              "      <td>0</td>\n",
              "      <td>0</td>\n",
              "    </tr>\n",
              "    <tr>\n",
              "      <th>2</th>\n",
              "      <td>3668-QPYBK</td>\n",
              "      <td>0</td>\n",
              "      <td>0</td>\n",
              "      <td>2</td>\n",
              "      <td>1</td>\n",
              "      <td>0</td>\n",
              "      <td>1</td>\n",
              "      <td>1</td>\n",
              "      <td>0</td>\n",
              "      <td>0</td>\n",
              "      <td>0</td>\n",
              "      <td>0</td>\n",
              "      <td>1</td>\n",
              "      <td>53.85</td>\n",
              "      <td>108.15</td>\n",
              "      <td>1</td>\n",
              "      <td>0</td>\n",
              "      <td>0</td>\n",
              "      <td>0</td>\n",
              "      <td>1</td>\n",
              "      <td>1</td>\n",
              "      <td>0</td>\n",
              "      <td>0</td>\n",
              "      <td>0</td>\n",
              "      <td>1</td>\n",
              "      <td>1</td>\n",
              "      <td>0</td>\n",
              "      <td>1</td>\n",
              "      <td>0</td>\n",
              "      <td>0</td>\n",
              "    </tr>\n",
              "    <tr>\n",
              "      <th>3</th>\n",
              "      <td>7795-CFOCW</td>\n",
              "      <td>0</td>\n",
              "      <td>0</td>\n",
              "      <td>45</td>\n",
              "      <td>0</td>\n",
              "      <td>0</td>\n",
              "      <td>1</td>\n",
              "      <td>0</td>\n",
              "      <td>1</td>\n",
              "      <td>1</td>\n",
              "      <td>0</td>\n",
              "      <td>0</td>\n",
              "      <td>0</td>\n",
              "      <td>42.30</td>\n",
              "      <td>1840.75</td>\n",
              "      <td>0</td>\n",
              "      <td>1</td>\n",
              "      <td>0</td>\n",
              "      <td>0</td>\n",
              "      <td>0</td>\n",
              "      <td>0</td>\n",
              "      <td>1</td>\n",
              "      <td>0</td>\n",
              "      <td>0</td>\n",
              "      <td>1</td>\n",
              "      <td>1</td>\n",
              "      <td>0</td>\n",
              "      <td>1</td>\n",
              "      <td>0</td>\n",
              "      <td>0</td>\n",
              "    </tr>\n",
              "    <tr>\n",
              "      <th>4</th>\n",
              "      <td>9237-HQITU</td>\n",
              "      <td>0</td>\n",
              "      <td>0</td>\n",
              "      <td>2</td>\n",
              "      <td>1</td>\n",
              "      <td>0</td>\n",
              "      <td>0</td>\n",
              "      <td>0</td>\n",
              "      <td>0</td>\n",
              "      <td>0</td>\n",
              "      <td>0</td>\n",
              "      <td>0</td>\n",
              "      <td>1</td>\n",
              "      <td>70.70</td>\n",
              "      <td>151.65</td>\n",
              "      <td>1</td>\n",
              "      <td>0</td>\n",
              "      <td>0</td>\n",
              "      <td>1</td>\n",
              "      <td>0</td>\n",
              "      <td>1</td>\n",
              "      <td>0</td>\n",
              "      <td>0</td>\n",
              "      <td>1</td>\n",
              "      <td>0</td>\n",
              "      <td>1</td>\n",
              "      <td>0</td>\n",
              "      <td>0</td>\n",
              "      <td>1</td>\n",
              "      <td>0</td>\n",
              "    </tr>\n",
              "  </tbody>\n",
              "</table>\n",
              "</div>"
            ],
            "text/plain": [
              "   customerID  Partner  Dependents  ...  IS_DSL  IS_Fiber optic  IS_No\n",
              "0  7590-VHVEG        1           0  ...       1               0      0\n",
              "1  5575-GNVDE        0           0  ...       1               0      0\n",
              "2  3668-QPYBK        0           0  ...       1               0      0\n",
              "3  7795-CFOCW        0           0  ...       1               0      0\n",
              "4  9237-HQITU        0           0  ...       0               1      0\n",
              "\n",
              "[5 rows x 30 columns]"
            ]
          },
          "metadata": {
            "tags": []
          },
          "execution_count": 27
        }
      ]
    },
    {
      "cell_type": "code",
      "metadata": {
        "colab": {
          "base_uri": "https://localhost:8080/",
          "height": 160
        },
        "id": "iRSjhp6uHiKg",
        "outputId": "a12d631f-1ff5-40f1-ca9f-a993399b59cb"
      },
      "source": [
        "data.columns = ['customerID', 'Partner', 'Dependents', 'tenure', 'PhoneService',\n",
        "       'MultipleLines', 'OnlineSecurity', 'OnlineBackup', 'DeviceProtection',\n",
        "       'TechSupport', 'StreamingTV', 'StreamingMovies', 'PaperlessBilling',\n",
        "       'MonthlyCharges', 'TotalCharges', 'Churn',\n",
        "       'payment_Bank_transfer_auto', 'payment_Credit_card_auto',\n",
        "       'payment_Electronic_check', 'payment_Mailed_check',\n",
        "       'contract_Month_to_month', 'contract_One_year', 'contract_Two_year',\n",
        "       'gender_Female', 'gender_Male', 'SC_False', 'SC_True', 'IS_DSL',\n",
        "       'IS_Fiber_optic', 'IS_No']\n",
        "data.head(2)"
      ],
      "execution_count": null,
      "outputs": [
        {
          "output_type": "execute_result",
          "data": {
            "text/html": [
              "<div>\n",
              "<style scoped>\n",
              "    .dataframe tbody tr th:only-of-type {\n",
              "        vertical-align: middle;\n",
              "    }\n",
              "\n",
              "    .dataframe tbody tr th {\n",
              "        vertical-align: top;\n",
              "    }\n",
              "\n",
              "    .dataframe thead th {\n",
              "        text-align: right;\n",
              "    }\n",
              "</style>\n",
              "<table border=\"1\" class=\"dataframe\">\n",
              "  <thead>\n",
              "    <tr style=\"text-align: right;\">\n",
              "      <th></th>\n",
              "      <th>customerID</th>\n",
              "      <th>Partner</th>\n",
              "      <th>Dependents</th>\n",
              "      <th>tenure</th>\n",
              "      <th>PhoneService</th>\n",
              "      <th>MultipleLines</th>\n",
              "      <th>OnlineSecurity</th>\n",
              "      <th>OnlineBackup</th>\n",
              "      <th>DeviceProtection</th>\n",
              "      <th>TechSupport</th>\n",
              "      <th>StreamingTV</th>\n",
              "      <th>StreamingMovies</th>\n",
              "      <th>PaperlessBilling</th>\n",
              "      <th>MonthlyCharges</th>\n",
              "      <th>TotalCharges</th>\n",
              "      <th>Churn</th>\n",
              "      <th>payment_Bank_transfer_auto</th>\n",
              "      <th>payment_Credit_card_auto</th>\n",
              "      <th>payment_Electronic_check</th>\n",
              "      <th>payment_Mailed_check</th>\n",
              "      <th>contract_Month_to_month</th>\n",
              "      <th>contract_One_year</th>\n",
              "      <th>contract_Two_year</th>\n",
              "      <th>gender_Female</th>\n",
              "      <th>gender_Male</th>\n",
              "      <th>SC_False</th>\n",
              "      <th>SC_True</th>\n",
              "      <th>IS_DSL</th>\n",
              "      <th>IS_Fiber_optic</th>\n",
              "      <th>IS_No</th>\n",
              "    </tr>\n",
              "  </thead>\n",
              "  <tbody>\n",
              "    <tr>\n",
              "      <th>0</th>\n",
              "      <td>7590-VHVEG</td>\n",
              "      <td>1</td>\n",
              "      <td>0</td>\n",
              "      <td>1</td>\n",
              "      <td>0</td>\n",
              "      <td>0</td>\n",
              "      <td>0</td>\n",
              "      <td>1</td>\n",
              "      <td>0</td>\n",
              "      <td>0</td>\n",
              "      <td>0</td>\n",
              "      <td>0</td>\n",
              "      <td>1</td>\n",
              "      <td>29.85</td>\n",
              "      <td>29.85</td>\n",
              "      <td>0</td>\n",
              "      <td>0</td>\n",
              "      <td>0</td>\n",
              "      <td>1</td>\n",
              "      <td>0</td>\n",
              "      <td>1</td>\n",
              "      <td>0</td>\n",
              "      <td>0</td>\n",
              "      <td>1</td>\n",
              "      <td>0</td>\n",
              "      <td>1</td>\n",
              "      <td>0</td>\n",
              "      <td>1</td>\n",
              "      <td>0</td>\n",
              "      <td>0</td>\n",
              "    </tr>\n",
              "    <tr>\n",
              "      <th>1</th>\n",
              "      <td>5575-GNVDE</td>\n",
              "      <td>0</td>\n",
              "      <td>0</td>\n",
              "      <td>34</td>\n",
              "      <td>1</td>\n",
              "      <td>0</td>\n",
              "      <td>1</td>\n",
              "      <td>0</td>\n",
              "      <td>1</td>\n",
              "      <td>0</td>\n",
              "      <td>0</td>\n",
              "      <td>0</td>\n",
              "      <td>0</td>\n",
              "      <td>56.95</td>\n",
              "      <td>1889.50</td>\n",
              "      <td>0</td>\n",
              "      <td>0</td>\n",
              "      <td>0</td>\n",
              "      <td>0</td>\n",
              "      <td>1</td>\n",
              "      <td>0</td>\n",
              "      <td>1</td>\n",
              "      <td>0</td>\n",
              "      <td>0</td>\n",
              "      <td>1</td>\n",
              "      <td>1</td>\n",
              "      <td>0</td>\n",
              "      <td>1</td>\n",
              "      <td>0</td>\n",
              "      <td>0</td>\n",
              "    </tr>\n",
              "  </tbody>\n",
              "</table>\n",
              "</div>"
            ],
            "text/plain": [
              "   customerID  Partner  Dependents  ...  IS_DSL  IS_Fiber_optic  IS_No\n",
              "0  7590-VHVEG        1           0  ...       1               0      0\n",
              "1  5575-GNVDE        0           0  ...       1               0      0\n",
              "\n",
              "[2 rows x 30 columns]"
            ]
          },
          "metadata": {
            "tags": []
          },
          "execution_count": 28
        }
      ]
    },
    {
      "cell_type": "markdown",
      "metadata": {
        "id": "QIVYS9PuAHp3"
      },
      "source": [
        "**We'll convert all fields to number type in dataframe for our model.**"
      ]
    },
    {
      "cell_type": "code",
      "metadata": {
        "colab": {
          "base_uri": "https://localhost:8080/"
        },
        "id": "Y31ji3eZ8OdW",
        "outputId": "fb3c34d3-96e3-4a85-e392-cf8cbe1febe1"
      },
      "source": [
        "NumericCol=np.array(['Partner', 'Dependents', 'tenure', 'PhoneService',\n",
        "       'MultipleLines', 'OnlineSecurity', 'OnlineBackup', 'DeviceProtection',\n",
        "       'TechSupport', 'StreamingTV', 'StreamingMovies', 'PaperlessBilling',\n",
        "       'MonthlyCharges', 'TotalCharges', 'Churn',\n",
        "       'payment_Bank_transfer_auto', 'payment_Credit_card_auto',\n",
        "       'payment_Electronic_check', 'payment_Mailed_check',\n",
        "       'contract_Month_to_month', 'contract_One_year', 'contract_Two_year',\n",
        "       'gender_Female', 'gender_Male', 'SC_False', 'SC_True', 'IS_DSL',\n",
        "       'IS_Fiber_optic', 'IS_No'])\n",
        "\n",
        "for columnName in NumericCol:\n",
        "    data[columnName]=pd.to_numeric(data[columnName],errors='coerce')\n",
        "data.dtypes"
      ],
      "execution_count": null,
      "outputs": [
        {
          "output_type": "execute_result",
          "data": {
            "text/plain": [
              "customerID                     object\n",
              "Partner                         int64\n",
              "Dependents                      int64\n",
              "tenure                          int64\n",
              "PhoneService                    int64\n",
              "MultipleLines                   int64\n",
              "OnlineSecurity                  int64\n",
              "OnlineBackup                    int64\n",
              "DeviceProtection                int64\n",
              "TechSupport                     int64\n",
              "StreamingTV                     int64\n",
              "StreamingMovies                 int64\n",
              "PaperlessBilling                int64\n",
              "MonthlyCharges                float64\n",
              "TotalCharges                  float64\n",
              "Churn                           int64\n",
              "payment_Bank_transfer_auto      uint8\n",
              "payment_Credit_card_auto        uint8\n",
              "payment_Electronic_check        uint8\n",
              "payment_Mailed_check            uint8\n",
              "contract_Month_to_month         uint8\n",
              "contract_One_year               uint8\n",
              "contract_Two_year               uint8\n",
              "gender_Female                   uint8\n",
              "gender_Male                     uint8\n",
              "SC_False                        uint8\n",
              "SC_True                         uint8\n",
              "IS_DSL                          uint8\n",
              "IS_Fiber_optic                  uint8\n",
              "IS_No                           uint8\n",
              "dtype: object"
            ]
          },
          "metadata": {
            "tags": []
          },
          "execution_count": 29
        }
      ]
    },
    {
      "cell_type": "code",
      "metadata": {
        "id": "q5FBtBqJ8OdX",
        "colab": {
          "base_uri": "https://localhost:8080/",
          "height": 126
        },
        "outputId": "9bfd15bf-b9d2-4819-fcec-ee76b54d17dd"
      },
      "source": [
        "data = data.drop([\"customerID\"], axis = 1)\n",
        "data.head(2)"
      ],
      "execution_count": null,
      "outputs": [
        {
          "output_type": "execute_result",
          "data": {
            "text/html": [
              "<div>\n",
              "<style scoped>\n",
              "    .dataframe tbody tr th:only-of-type {\n",
              "        vertical-align: middle;\n",
              "    }\n",
              "\n",
              "    .dataframe tbody tr th {\n",
              "        vertical-align: top;\n",
              "    }\n",
              "\n",
              "    .dataframe thead th {\n",
              "        text-align: right;\n",
              "    }\n",
              "</style>\n",
              "<table border=\"1\" class=\"dataframe\">\n",
              "  <thead>\n",
              "    <tr style=\"text-align: right;\">\n",
              "      <th></th>\n",
              "      <th>Partner</th>\n",
              "      <th>Dependents</th>\n",
              "      <th>tenure</th>\n",
              "      <th>PhoneService</th>\n",
              "      <th>MultipleLines</th>\n",
              "      <th>OnlineSecurity</th>\n",
              "      <th>OnlineBackup</th>\n",
              "      <th>DeviceProtection</th>\n",
              "      <th>TechSupport</th>\n",
              "      <th>StreamingTV</th>\n",
              "      <th>StreamingMovies</th>\n",
              "      <th>PaperlessBilling</th>\n",
              "      <th>MonthlyCharges</th>\n",
              "      <th>TotalCharges</th>\n",
              "      <th>Churn</th>\n",
              "      <th>payment_Bank_transfer_auto</th>\n",
              "      <th>payment_Credit_card_auto</th>\n",
              "      <th>payment_Electronic_check</th>\n",
              "      <th>payment_Mailed_check</th>\n",
              "      <th>contract_Month_to_month</th>\n",
              "      <th>contract_One_year</th>\n",
              "      <th>contract_Two_year</th>\n",
              "      <th>gender_Female</th>\n",
              "      <th>gender_Male</th>\n",
              "      <th>SC_False</th>\n",
              "      <th>SC_True</th>\n",
              "      <th>IS_DSL</th>\n",
              "      <th>IS_Fiber_optic</th>\n",
              "      <th>IS_No</th>\n",
              "    </tr>\n",
              "  </thead>\n",
              "  <tbody>\n",
              "    <tr>\n",
              "      <th>0</th>\n",
              "      <td>1</td>\n",
              "      <td>0</td>\n",
              "      <td>1</td>\n",
              "      <td>0</td>\n",
              "      <td>0</td>\n",
              "      <td>0</td>\n",
              "      <td>1</td>\n",
              "      <td>0</td>\n",
              "      <td>0</td>\n",
              "      <td>0</td>\n",
              "      <td>0</td>\n",
              "      <td>1</td>\n",
              "      <td>29.85</td>\n",
              "      <td>29.85</td>\n",
              "      <td>0</td>\n",
              "      <td>0</td>\n",
              "      <td>0</td>\n",
              "      <td>1</td>\n",
              "      <td>0</td>\n",
              "      <td>1</td>\n",
              "      <td>0</td>\n",
              "      <td>0</td>\n",
              "      <td>1</td>\n",
              "      <td>0</td>\n",
              "      <td>1</td>\n",
              "      <td>0</td>\n",
              "      <td>1</td>\n",
              "      <td>0</td>\n",
              "      <td>0</td>\n",
              "    </tr>\n",
              "    <tr>\n",
              "      <th>1</th>\n",
              "      <td>0</td>\n",
              "      <td>0</td>\n",
              "      <td>34</td>\n",
              "      <td>1</td>\n",
              "      <td>0</td>\n",
              "      <td>1</td>\n",
              "      <td>0</td>\n",
              "      <td>1</td>\n",
              "      <td>0</td>\n",
              "      <td>0</td>\n",
              "      <td>0</td>\n",
              "      <td>0</td>\n",
              "      <td>56.95</td>\n",
              "      <td>1889.50</td>\n",
              "      <td>0</td>\n",
              "      <td>0</td>\n",
              "      <td>0</td>\n",
              "      <td>0</td>\n",
              "      <td>1</td>\n",
              "      <td>0</td>\n",
              "      <td>1</td>\n",
              "      <td>0</td>\n",
              "      <td>0</td>\n",
              "      <td>1</td>\n",
              "      <td>1</td>\n",
              "      <td>0</td>\n",
              "      <td>1</td>\n",
              "      <td>0</td>\n",
              "      <td>0</td>\n",
              "    </tr>\n",
              "  </tbody>\n",
              "</table>\n",
              "</div>"
            ],
            "text/plain": [
              "   Partner  Dependents  tenure  ...  IS_DSL  IS_Fiber_optic  IS_No\n",
              "0        1           0       1  ...       1               0      0\n",
              "1        0           0      34  ...       1               0      0\n",
              "\n",
              "[2 rows x 29 columns]"
            ]
          },
          "metadata": {
            "tags": []
          },
          "execution_count": 30
        }
      ]
    },
    {
      "cell_type": "code",
      "metadata": {
        "colab": {
          "base_uri": "https://localhost:8080/",
          "height": 215
        },
        "id": "LP05Hq2ryOy_",
        "outputId": "45f99192-505f-4130-f94e-8cf670967431"
      },
      "source": [
        "data[data==np.inf]=np.nan\n",
        "data.fillna(data.mean(), inplace=True)\n",
        "data.head()"
      ],
      "execution_count": null,
      "outputs": [
        {
          "output_type": "execute_result",
          "data": {
            "text/html": [
              "<div>\n",
              "<style scoped>\n",
              "    .dataframe tbody tr th:only-of-type {\n",
              "        vertical-align: middle;\n",
              "    }\n",
              "\n",
              "    .dataframe tbody tr th {\n",
              "        vertical-align: top;\n",
              "    }\n",
              "\n",
              "    .dataframe thead th {\n",
              "        text-align: right;\n",
              "    }\n",
              "</style>\n",
              "<table border=\"1\" class=\"dataframe\">\n",
              "  <thead>\n",
              "    <tr style=\"text-align: right;\">\n",
              "      <th></th>\n",
              "      <th>Partner</th>\n",
              "      <th>Dependents</th>\n",
              "      <th>tenure</th>\n",
              "      <th>PhoneService</th>\n",
              "      <th>MultipleLines</th>\n",
              "      <th>OnlineSecurity</th>\n",
              "      <th>OnlineBackup</th>\n",
              "      <th>DeviceProtection</th>\n",
              "      <th>TechSupport</th>\n",
              "      <th>StreamingTV</th>\n",
              "      <th>StreamingMovies</th>\n",
              "      <th>PaperlessBilling</th>\n",
              "      <th>MonthlyCharges</th>\n",
              "      <th>TotalCharges</th>\n",
              "      <th>Churn</th>\n",
              "      <th>payment_Bank_transfer_auto</th>\n",
              "      <th>payment_Credit_card_auto</th>\n",
              "      <th>payment_Electronic_check</th>\n",
              "      <th>payment_Mailed_check</th>\n",
              "      <th>contract_Month_to_month</th>\n",
              "      <th>contract_One_year</th>\n",
              "      <th>contract_Two_year</th>\n",
              "      <th>gender_Female</th>\n",
              "      <th>gender_Male</th>\n",
              "      <th>SC_False</th>\n",
              "      <th>SC_True</th>\n",
              "      <th>IS_DSL</th>\n",
              "      <th>IS_Fiber_optic</th>\n",
              "      <th>IS_No</th>\n",
              "    </tr>\n",
              "  </thead>\n",
              "  <tbody>\n",
              "    <tr>\n",
              "      <th>0</th>\n",
              "      <td>1</td>\n",
              "      <td>0</td>\n",
              "      <td>1</td>\n",
              "      <td>0</td>\n",
              "      <td>0</td>\n",
              "      <td>0</td>\n",
              "      <td>1</td>\n",
              "      <td>0</td>\n",
              "      <td>0</td>\n",
              "      <td>0</td>\n",
              "      <td>0</td>\n",
              "      <td>1</td>\n",
              "      <td>29.85</td>\n",
              "      <td>29.85</td>\n",
              "      <td>0</td>\n",
              "      <td>0</td>\n",
              "      <td>0</td>\n",
              "      <td>1</td>\n",
              "      <td>0</td>\n",
              "      <td>1</td>\n",
              "      <td>0</td>\n",
              "      <td>0</td>\n",
              "      <td>1</td>\n",
              "      <td>0</td>\n",
              "      <td>1</td>\n",
              "      <td>0</td>\n",
              "      <td>1</td>\n",
              "      <td>0</td>\n",
              "      <td>0</td>\n",
              "    </tr>\n",
              "    <tr>\n",
              "      <th>1</th>\n",
              "      <td>0</td>\n",
              "      <td>0</td>\n",
              "      <td>34</td>\n",
              "      <td>1</td>\n",
              "      <td>0</td>\n",
              "      <td>1</td>\n",
              "      <td>0</td>\n",
              "      <td>1</td>\n",
              "      <td>0</td>\n",
              "      <td>0</td>\n",
              "      <td>0</td>\n",
              "      <td>0</td>\n",
              "      <td>56.95</td>\n",
              "      <td>1889.50</td>\n",
              "      <td>0</td>\n",
              "      <td>0</td>\n",
              "      <td>0</td>\n",
              "      <td>0</td>\n",
              "      <td>1</td>\n",
              "      <td>0</td>\n",
              "      <td>1</td>\n",
              "      <td>0</td>\n",
              "      <td>0</td>\n",
              "      <td>1</td>\n",
              "      <td>1</td>\n",
              "      <td>0</td>\n",
              "      <td>1</td>\n",
              "      <td>0</td>\n",
              "      <td>0</td>\n",
              "    </tr>\n",
              "    <tr>\n",
              "      <th>2</th>\n",
              "      <td>0</td>\n",
              "      <td>0</td>\n",
              "      <td>2</td>\n",
              "      <td>1</td>\n",
              "      <td>0</td>\n",
              "      <td>1</td>\n",
              "      <td>1</td>\n",
              "      <td>0</td>\n",
              "      <td>0</td>\n",
              "      <td>0</td>\n",
              "      <td>0</td>\n",
              "      <td>1</td>\n",
              "      <td>53.85</td>\n",
              "      <td>108.15</td>\n",
              "      <td>1</td>\n",
              "      <td>0</td>\n",
              "      <td>0</td>\n",
              "      <td>0</td>\n",
              "      <td>1</td>\n",
              "      <td>1</td>\n",
              "      <td>0</td>\n",
              "      <td>0</td>\n",
              "      <td>0</td>\n",
              "      <td>1</td>\n",
              "      <td>1</td>\n",
              "      <td>0</td>\n",
              "      <td>1</td>\n",
              "      <td>0</td>\n",
              "      <td>0</td>\n",
              "    </tr>\n",
              "    <tr>\n",
              "      <th>3</th>\n",
              "      <td>0</td>\n",
              "      <td>0</td>\n",
              "      <td>45</td>\n",
              "      <td>0</td>\n",
              "      <td>0</td>\n",
              "      <td>1</td>\n",
              "      <td>0</td>\n",
              "      <td>1</td>\n",
              "      <td>1</td>\n",
              "      <td>0</td>\n",
              "      <td>0</td>\n",
              "      <td>0</td>\n",
              "      <td>42.30</td>\n",
              "      <td>1840.75</td>\n",
              "      <td>0</td>\n",
              "      <td>1</td>\n",
              "      <td>0</td>\n",
              "      <td>0</td>\n",
              "      <td>0</td>\n",
              "      <td>0</td>\n",
              "      <td>1</td>\n",
              "      <td>0</td>\n",
              "      <td>0</td>\n",
              "      <td>1</td>\n",
              "      <td>1</td>\n",
              "      <td>0</td>\n",
              "      <td>1</td>\n",
              "      <td>0</td>\n",
              "      <td>0</td>\n",
              "    </tr>\n",
              "    <tr>\n",
              "      <th>4</th>\n",
              "      <td>0</td>\n",
              "      <td>0</td>\n",
              "      <td>2</td>\n",
              "      <td>1</td>\n",
              "      <td>0</td>\n",
              "      <td>0</td>\n",
              "      <td>0</td>\n",
              "      <td>0</td>\n",
              "      <td>0</td>\n",
              "      <td>0</td>\n",
              "      <td>0</td>\n",
              "      <td>1</td>\n",
              "      <td>70.70</td>\n",
              "      <td>151.65</td>\n",
              "      <td>1</td>\n",
              "      <td>0</td>\n",
              "      <td>0</td>\n",
              "      <td>1</td>\n",
              "      <td>0</td>\n",
              "      <td>1</td>\n",
              "      <td>0</td>\n",
              "      <td>0</td>\n",
              "      <td>1</td>\n",
              "      <td>0</td>\n",
              "      <td>1</td>\n",
              "      <td>0</td>\n",
              "      <td>0</td>\n",
              "      <td>1</td>\n",
              "      <td>0</td>\n",
              "    </tr>\n",
              "  </tbody>\n",
              "</table>\n",
              "</div>"
            ],
            "text/plain": [
              "   Partner  Dependents  tenure  ...  IS_DSL  IS_Fiber_optic  IS_No\n",
              "0        1           0       1  ...       1               0      0\n",
              "1        0           0      34  ...       1               0      0\n",
              "2        0           0       2  ...       1               0      0\n",
              "3        0           0      45  ...       1               0      0\n",
              "4        0           0       2  ...       0               1      0\n",
              "\n",
              "[5 rows x 29 columns]"
            ]
          },
          "metadata": {
            "tags": []
          },
          "execution_count": 48
        }
      ]
    },
    {
      "cell_type": "markdown",
      "metadata": {
        "id": "ArG7gFjFAicF"
      },
      "source": [
        "## **Scaling**"
      ]
    },
    {
      "cell_type": "code",
      "metadata": {
        "colab": {
          "base_uri": "https://localhost:8080/",
          "height": 126
        },
        "id": "PtmGdE2wuX7x",
        "outputId": "95a77398-d43e-49b2-dbaf-cfaea103f8da"
      },
      "source": [
        "cat_data = data.drop(['Churn','tenure','MonthlyCharges','TotalCharges'],axis=1)\n",
        "cat_data.head(2)"
      ],
      "execution_count": null,
      "outputs": [
        {
          "output_type": "execute_result",
          "data": {
            "text/html": [
              "<div>\n",
              "<style scoped>\n",
              "    .dataframe tbody tr th:only-of-type {\n",
              "        vertical-align: middle;\n",
              "    }\n",
              "\n",
              "    .dataframe tbody tr th {\n",
              "        vertical-align: top;\n",
              "    }\n",
              "\n",
              "    .dataframe thead th {\n",
              "        text-align: right;\n",
              "    }\n",
              "</style>\n",
              "<table border=\"1\" class=\"dataframe\">\n",
              "  <thead>\n",
              "    <tr style=\"text-align: right;\">\n",
              "      <th></th>\n",
              "      <th>Partner</th>\n",
              "      <th>Dependents</th>\n",
              "      <th>PhoneService</th>\n",
              "      <th>MultipleLines</th>\n",
              "      <th>OnlineSecurity</th>\n",
              "      <th>OnlineBackup</th>\n",
              "      <th>DeviceProtection</th>\n",
              "      <th>TechSupport</th>\n",
              "      <th>StreamingTV</th>\n",
              "      <th>StreamingMovies</th>\n",
              "      <th>PaperlessBilling</th>\n",
              "      <th>payment_Bank_transfer_auto</th>\n",
              "      <th>payment_Credit_card_auto</th>\n",
              "      <th>payment_Electronic_check</th>\n",
              "      <th>payment_Mailed_check</th>\n",
              "      <th>contract_Month_to_month</th>\n",
              "      <th>contract_One_year</th>\n",
              "      <th>contract_Two_year</th>\n",
              "      <th>gender_Female</th>\n",
              "      <th>gender_Male</th>\n",
              "      <th>SC_False</th>\n",
              "      <th>SC_True</th>\n",
              "      <th>IS_DSL</th>\n",
              "      <th>IS_Fiber_optic</th>\n",
              "      <th>IS_No</th>\n",
              "    </tr>\n",
              "  </thead>\n",
              "  <tbody>\n",
              "    <tr>\n",
              "      <th>0</th>\n",
              "      <td>1</td>\n",
              "      <td>0</td>\n",
              "      <td>0</td>\n",
              "      <td>0</td>\n",
              "      <td>0</td>\n",
              "      <td>1</td>\n",
              "      <td>0</td>\n",
              "      <td>0</td>\n",
              "      <td>0</td>\n",
              "      <td>0</td>\n",
              "      <td>1</td>\n",
              "      <td>0</td>\n",
              "      <td>0</td>\n",
              "      <td>1</td>\n",
              "      <td>0</td>\n",
              "      <td>1</td>\n",
              "      <td>0</td>\n",
              "      <td>0</td>\n",
              "      <td>1</td>\n",
              "      <td>0</td>\n",
              "      <td>1</td>\n",
              "      <td>0</td>\n",
              "      <td>1</td>\n",
              "      <td>0</td>\n",
              "      <td>0</td>\n",
              "    </tr>\n",
              "    <tr>\n",
              "      <th>1</th>\n",
              "      <td>0</td>\n",
              "      <td>0</td>\n",
              "      <td>1</td>\n",
              "      <td>0</td>\n",
              "      <td>1</td>\n",
              "      <td>0</td>\n",
              "      <td>1</td>\n",
              "      <td>0</td>\n",
              "      <td>0</td>\n",
              "      <td>0</td>\n",
              "      <td>0</td>\n",
              "      <td>0</td>\n",
              "      <td>0</td>\n",
              "      <td>0</td>\n",
              "      <td>1</td>\n",
              "      <td>0</td>\n",
              "      <td>1</td>\n",
              "      <td>0</td>\n",
              "      <td>0</td>\n",
              "      <td>1</td>\n",
              "      <td>1</td>\n",
              "      <td>0</td>\n",
              "      <td>1</td>\n",
              "      <td>0</td>\n",
              "      <td>0</td>\n",
              "    </tr>\n",
              "  </tbody>\n",
              "</table>\n",
              "</div>"
            ],
            "text/plain": [
              "   Partner  Dependents  PhoneService  ...  IS_DSL  IS_Fiber_optic  IS_No\n",
              "0        1           0             0  ...       1               0      0\n",
              "1        0           0             1  ...       1               0      0\n",
              "\n",
              "[2 rows x 25 columns]"
            ]
          },
          "metadata": {
            "tags": []
          },
          "execution_count": 49
        }
      ]
    },
    {
      "cell_type": "code",
      "metadata": {
        "id": "_Pq6xsysmFFB"
      },
      "source": [
        "y=data['Churn']\n",
        "X=data[['tenure','MonthlyCharges','TotalCharges']]\t\n",
        "cols = X.columns\n",
        "index = X.index"
      ],
      "execution_count": null,
      "outputs": []
    },
    {
      "cell_type": "code",
      "metadata": {
        "colab": {
          "base_uri": "https://localhost:8080/",
          "height": 136
        },
        "id": "jARqc43utc4I",
        "outputId": "add4b265-2dc0-4fae-ffc2-a34fc4169ec3"
      },
      "source": [
        "X.head(3)"
      ],
      "execution_count": null,
      "outputs": [
        {
          "output_type": "execute_result",
          "data": {
            "text/html": [
              "<div>\n",
              "<style scoped>\n",
              "    .dataframe tbody tr th:only-of-type {\n",
              "        vertical-align: middle;\n",
              "    }\n",
              "\n",
              "    .dataframe tbody tr th {\n",
              "        vertical-align: top;\n",
              "    }\n",
              "\n",
              "    .dataframe thead th {\n",
              "        text-align: right;\n",
              "    }\n",
              "</style>\n",
              "<table border=\"1\" class=\"dataframe\">\n",
              "  <thead>\n",
              "    <tr style=\"text-align: right;\">\n",
              "      <th></th>\n",
              "      <th>tenure</th>\n",
              "      <th>MonthlyCharges</th>\n",
              "      <th>TotalCharges</th>\n",
              "    </tr>\n",
              "  </thead>\n",
              "  <tbody>\n",
              "    <tr>\n",
              "      <th>0</th>\n",
              "      <td>1</td>\n",
              "      <td>29.85</td>\n",
              "      <td>29.85</td>\n",
              "    </tr>\n",
              "    <tr>\n",
              "      <th>1</th>\n",
              "      <td>34</td>\n",
              "      <td>56.95</td>\n",
              "      <td>1889.50</td>\n",
              "    </tr>\n",
              "    <tr>\n",
              "      <th>2</th>\n",
              "      <td>2</td>\n",
              "      <td>53.85</td>\n",
              "      <td>108.15</td>\n",
              "    </tr>\n",
              "  </tbody>\n",
              "</table>\n",
              "</div>"
            ],
            "text/plain": [
              "   tenure  MonthlyCharges  TotalCharges\n",
              "0       1           29.85         29.85\n",
              "1      34           56.95       1889.50\n",
              "2       2           53.85        108.15"
            ]
          },
          "metadata": {
            "tags": []
          },
          "execution_count": 51
        }
      ]
    },
    {
      "cell_type": "markdown",
      "metadata": {
        "id": "KsS5f1qOCmII"
      },
      "source": [
        "**Here we'll normalize our data by using sklearn's RobustScaler**"
      ]
    },
    {
      "cell_type": "code",
      "metadata": {
        "id": "BR6wyIHVwVsE"
      },
      "source": [
        "from sklearn.preprocessing import RobustScaler\n",
        "transformer = RobustScaler().fit(X)\n",
        "X = transformer.transform(X)\n",
        "X = pd.DataFrame(X, columns = cols, index = index)"
      ],
      "execution_count": null,
      "outputs": []
    },
    {
      "cell_type": "code",
      "metadata": {
        "colab": {
          "base_uri": "https://localhost:8080/",
          "height": 215
        },
        "id": "5gLHgpuQwY85",
        "outputId": "ac200dbd-24c0-4d73-d9b5-fd31319411b0"
      },
      "source": [
        "X = pd.concat([X,cat_data], axis = 1)\n",
        "X.head()"
      ],
      "execution_count": null,
      "outputs": [
        {
          "output_type": "execute_result",
          "data": {
            "text/html": [
              "<div>\n",
              "<style scoped>\n",
              "    .dataframe tbody tr th:only-of-type {\n",
              "        vertical-align: middle;\n",
              "    }\n",
              "\n",
              "    .dataframe tbody tr th {\n",
              "        vertical-align: top;\n",
              "    }\n",
              "\n",
              "    .dataframe thead th {\n",
              "        text-align: right;\n",
              "    }\n",
              "</style>\n",
              "<table border=\"1\" class=\"dataframe\">\n",
              "  <thead>\n",
              "    <tr style=\"text-align: right;\">\n",
              "      <th></th>\n",
              "      <th>tenure</th>\n",
              "      <th>MonthlyCharges</th>\n",
              "      <th>TotalCharges</th>\n",
              "      <th>Partner</th>\n",
              "      <th>Dependents</th>\n",
              "      <th>PhoneService</th>\n",
              "      <th>MultipleLines</th>\n",
              "      <th>OnlineSecurity</th>\n",
              "      <th>OnlineBackup</th>\n",
              "      <th>DeviceProtection</th>\n",
              "      <th>TechSupport</th>\n",
              "      <th>StreamingTV</th>\n",
              "      <th>StreamingMovies</th>\n",
              "      <th>PaperlessBilling</th>\n",
              "      <th>payment_Bank_transfer_auto</th>\n",
              "      <th>payment_Credit_card_auto</th>\n",
              "      <th>payment_Electronic_check</th>\n",
              "      <th>payment_Mailed_check</th>\n",
              "      <th>contract_Month_to_month</th>\n",
              "      <th>contract_One_year</th>\n",
              "      <th>contract_Two_year</th>\n",
              "      <th>gender_Female</th>\n",
              "      <th>gender_Male</th>\n",
              "      <th>SC_False</th>\n",
              "      <th>SC_True</th>\n",
              "      <th>IS_DSL</th>\n",
              "      <th>IS_Fiber_optic</th>\n",
              "      <th>IS_No</th>\n",
              "    </tr>\n",
              "  </thead>\n",
              "  <tbody>\n",
              "    <tr>\n",
              "      <th>0</th>\n",
              "      <td>-0.608696</td>\n",
              "      <td>-0.745170</td>\n",
              "      <td>-0.405008</td>\n",
              "      <td>1</td>\n",
              "      <td>0</td>\n",
              "      <td>0</td>\n",
              "      <td>0</td>\n",
              "      <td>0</td>\n",
              "      <td>1</td>\n",
              "      <td>0</td>\n",
              "      <td>0</td>\n",
              "      <td>0</td>\n",
              "      <td>0</td>\n",
              "      <td>1</td>\n",
              "      <td>0</td>\n",
              "      <td>0</td>\n",
              "      <td>1</td>\n",
              "      <td>0</td>\n",
              "      <td>1</td>\n",
              "      <td>0</td>\n",
              "      <td>0</td>\n",
              "      <td>1</td>\n",
              "      <td>0</td>\n",
              "      <td>1</td>\n",
              "      <td>0</td>\n",
              "      <td>1</td>\n",
              "      <td>0</td>\n",
              "      <td>0</td>\n",
              "    </tr>\n",
              "    <tr>\n",
              "      <th>1</th>\n",
              "      <td>0.108696</td>\n",
              "      <td>-0.246550</td>\n",
              "      <td>0.144473</td>\n",
              "      <td>0</td>\n",
              "      <td>0</td>\n",
              "      <td>1</td>\n",
              "      <td>0</td>\n",
              "      <td>1</td>\n",
              "      <td>0</td>\n",
              "      <td>1</td>\n",
              "      <td>0</td>\n",
              "      <td>0</td>\n",
              "      <td>0</td>\n",
              "      <td>0</td>\n",
              "      <td>0</td>\n",
              "      <td>0</td>\n",
              "      <td>0</td>\n",
              "      <td>1</td>\n",
              "      <td>0</td>\n",
              "      <td>1</td>\n",
              "      <td>0</td>\n",
              "      <td>0</td>\n",
              "      <td>1</td>\n",
              "      <td>1</td>\n",
              "      <td>0</td>\n",
              "      <td>1</td>\n",
              "      <td>0</td>\n",
              "      <td>0</td>\n",
              "    </tr>\n",
              "    <tr>\n",
              "      <th>2</th>\n",
              "      <td>-0.586957</td>\n",
              "      <td>-0.303588</td>\n",
              "      <td>-0.381873</td>\n",
              "      <td>0</td>\n",
              "      <td>0</td>\n",
              "      <td>1</td>\n",
              "      <td>0</td>\n",
              "      <td>1</td>\n",
              "      <td>1</td>\n",
              "      <td>0</td>\n",
              "      <td>0</td>\n",
              "      <td>0</td>\n",
              "      <td>0</td>\n",
              "      <td>1</td>\n",
              "      <td>0</td>\n",
              "      <td>0</td>\n",
              "      <td>0</td>\n",
              "      <td>1</td>\n",
              "      <td>1</td>\n",
              "      <td>0</td>\n",
              "      <td>0</td>\n",
              "      <td>0</td>\n",
              "      <td>1</td>\n",
              "      <td>1</td>\n",
              "      <td>0</td>\n",
              "      <td>1</td>\n",
              "      <td>0</td>\n",
              "      <td>0</td>\n",
              "    </tr>\n",
              "    <tr>\n",
              "      <th>3</th>\n",
              "      <td>0.347826</td>\n",
              "      <td>-0.516099</td>\n",
              "      <td>0.130068</td>\n",
              "      <td>0</td>\n",
              "      <td>0</td>\n",
              "      <td>0</td>\n",
              "      <td>0</td>\n",
              "      <td>1</td>\n",
              "      <td>0</td>\n",
              "      <td>1</td>\n",
              "      <td>1</td>\n",
              "      <td>0</td>\n",
              "      <td>0</td>\n",
              "      <td>0</td>\n",
              "      <td>1</td>\n",
              "      <td>0</td>\n",
              "      <td>0</td>\n",
              "      <td>0</td>\n",
              "      <td>0</td>\n",
              "      <td>1</td>\n",
              "      <td>0</td>\n",
              "      <td>0</td>\n",
              "      <td>1</td>\n",
              "      <td>1</td>\n",
              "      <td>0</td>\n",
              "      <td>1</td>\n",
              "      <td>0</td>\n",
              "      <td>0</td>\n",
              "    </tr>\n",
              "    <tr>\n",
              "      <th>4</th>\n",
              "      <td>-0.586957</td>\n",
              "      <td>0.006440</td>\n",
              "      <td>-0.369019</td>\n",
              "      <td>0</td>\n",
              "      <td>0</td>\n",
              "      <td>1</td>\n",
              "      <td>0</td>\n",
              "      <td>0</td>\n",
              "      <td>0</td>\n",
              "      <td>0</td>\n",
              "      <td>0</td>\n",
              "      <td>0</td>\n",
              "      <td>0</td>\n",
              "      <td>1</td>\n",
              "      <td>0</td>\n",
              "      <td>0</td>\n",
              "      <td>1</td>\n",
              "      <td>0</td>\n",
              "      <td>1</td>\n",
              "      <td>0</td>\n",
              "      <td>0</td>\n",
              "      <td>1</td>\n",
              "      <td>0</td>\n",
              "      <td>1</td>\n",
              "      <td>0</td>\n",
              "      <td>0</td>\n",
              "      <td>1</td>\n",
              "      <td>0</td>\n",
              "    </tr>\n",
              "  </tbody>\n",
              "</table>\n",
              "</div>"
            ],
            "text/plain": [
              "     tenure  MonthlyCharges  TotalCharges  ...  IS_DSL  IS_Fiber_optic  IS_No\n",
              "0 -0.608696       -0.745170     -0.405008  ...       1               0      0\n",
              "1  0.108696       -0.246550      0.144473  ...       1               0      0\n",
              "2 -0.586957       -0.303588     -0.381873  ...       1               0      0\n",
              "3  0.347826       -0.516099      0.130068  ...       1               0      0\n",
              "4 -0.586957        0.006440     -0.369019  ...       0               1      0\n",
              "\n",
              "[5 rows x 28 columns]"
            ]
          },
          "metadata": {
            "tags": []
          },
          "execution_count": 53
        }
      ]
    },
    {
      "cell_type": "code",
      "metadata": {
        "colab": {
          "base_uri": "https://localhost:8080/"
        },
        "id": "BabEglRztrvi",
        "outputId": "dd495069-e022-455e-97d5-a33b23a76ba4"
      },
      "source": [
        "y.head()"
      ],
      "execution_count": null,
      "outputs": [
        {
          "output_type": "execute_result",
          "data": {
            "text/plain": [
              "0    0\n",
              "1    0\n",
              "2    1\n",
              "3    0\n",
              "4    1\n",
              "Name: Churn, dtype: int64"
            ]
          },
          "metadata": {
            "tags": []
          },
          "execution_count": 54
        }
      ]
    },
    {
      "cell_type": "code",
      "metadata": {
        "colab": {
          "base_uri": "https://localhost:8080/"
        },
        "id": "lpSb3lKBwtIK",
        "outputId": "4022c110-cbc1-4ddd-fc35-6dfd70b38fea"
      },
      "source": [
        "print(X.shape,y.shape)"
      ],
      "execution_count": null,
      "outputs": [
        {
          "output_type": "stream",
          "text": [
            "(7043, 28) (7043,)\n"
          ],
          "name": "stdout"
        }
      ]
    },
    {
      "cell_type": "markdown",
      "metadata": {
        "id": "JxX9Ovd4AstF"
      },
      "source": [
        "## **Train-Test Separation & Balancing**"
      ]
    },
    {
      "cell_type": "code",
      "metadata": {
        "colab": {
          "base_uri": "https://localhost:8080/"
        },
        "id": "hMYWKf5Mw0Tt",
        "outputId": "2af4ac98-1669-401d-de4f-89eaf8db75b7"
      },
      "source": [
        "from sklearn.model_selection import train_test_split\n",
        "X_train, X_test, y_train, y_test = train_test_split(X, y, \n",
        "                                                    test_size=0.432, \n",
        "                                                    random_state=12345)\n",
        "print ('Train set:', X_train.shape,  y_train.shape)\n",
        "print ('Test set:', X_test.shape,  y_test.shape)"
      ],
      "execution_count": null,
      "outputs": [
        {
          "output_type": "stream",
          "text": [
            "Train set: (4000, 28) (4000,)\n",
            "Test set: (3043, 28) (3043,)\n"
          ],
          "name": "stdout"
        }
      ]
    },
    {
      "cell_type": "markdown",
      "metadata": {
        "id": "55dbOPTaBDD1"
      },
      "source": [
        "## **Implement Machine Learning Models**"
      ]
    },
    {
      "cell_type": "code",
      "metadata": {
        "id": "8oMHcEEYxXRG"
      },
      "source": [
        "from sklearn.linear_model import LogisticRegression  \n",
        "from sklearn.neighbors import KNeighborsClassifier  \n",
        "from sklearn.svm import SVC\n",
        "from sklearn.tree import DecisionTreeClassifier \n",
        "from sklearn.ensemble import RandomForestClassifier\n",
        "from xgboost import XGBClassifier\n",
        "from lightgbm import LGBMClassifier\n",
        "from sklearn.ensemble import GradientBoostingClassifier\n",
        "from sklearn.metrics import accuracy_score\n",
        "from sklearn.model_selection import KFold\n",
        "from sklearn.model_selection import cross_val_score, GridSearchCV"
      ],
      "execution_count": null,
      "outputs": []
    },
    {
      "cell_type": "code",
      "metadata": {
        "id": "U149XeDMxkD2"
      },
      "source": [
        "models = []\n",
        "models.append(('LR', LogisticRegression(random_state = 12345)))\n",
        "models.append(('KNN', KNeighborsClassifier()))\n",
        "models.append(('CART', DecisionTreeClassifier(random_state = 12345)))\n",
        "models.append(('RF', RandomForestClassifier(random_state = 12345)))\n",
        "models.append(('SVM', SVC(gamma='auto', random_state = 12345)))\n",
        "models.append(('XGB', GradientBoostingClassifier(random_state = 12345)))\n",
        "models.append((\"LightGBM\", LGBMClassifier(random_state = 12345)))"
      ],
      "execution_count": null,
      "outputs": []
    },
    {
      "cell_type": "markdown",
      "metadata": {
        "id": "G0QC8t8KBR2A"
      },
      "source": [
        "## **Model Evaluation**"
      ]
    },
    {
      "cell_type": "markdown",
      "metadata": {
        "id": "ThSCupN9BuvV"
      },
      "source": [
        " **Accuracy Score**"
      ]
    },
    {
      "cell_type": "code",
      "metadata": {
        "colab": {
          "base_uri": "https://localhost:8080/"
        },
        "id": "SDa9abz-xrXY",
        "outputId": "791bee72-6791-4d08-dc3e-b8f516629451"
      },
      "source": [
        "result=[]\n",
        "name=[]\n",
        "for name, model in models:\n",
        "        model.fit(X_train, y_train)\n",
        "        y_pred = model.predict(X_test)\n",
        "        accuracy = accuracy_score(y_test, y_pred)\n",
        "        msg = \"%s: (%f)\" % (name, accuracy)\n",
        "        print(msg)"
      ],
      "execution_count": null,
      "outputs": [
        {
          "output_type": "stream",
          "text": [
            "LR: (0.793953)\n",
            "KNN: (0.757805)\n",
            "CART: (0.727571)\n",
            "RF: (0.787052)\n",
            "SVM: (0.792967)\n",
            "XGB: (0.793625)\n",
            "LightGBM: (0.784752)\n"
          ],
          "name": "stdout"
        }
      ]
    },
    {
      "cell_type": "code",
      "metadata": {
        "id": "A2YXDpCCyyXU"
      },
      "source": [
        "models2 = []\n",
        "models2.append(('RF', RandomForestClassifier( random_state = 12345)))\n",
        "#models2.append(('SVM', SVC(gamma='auto', random_state = 12345)))\n",
        "models2.append(('XGB', GradientBoostingClassifier(random_state = 12345)))\n",
        "models2.append((\"LightGBM\", LGBMClassifier( random_state = 12345)))"
      ],
      "execution_count": null,
      "outputs": []
    },
    {
      "cell_type": "markdown",
      "metadata": {
        "id": "9Srtvy7SB6W-"
      },
      "source": [
        "**Variable Importance Levels of Some Models**"
      ]
    },
    {
      "cell_type": "code",
      "metadata": {
        "colab": {
          "base_uri": "https://localhost:8080/",
          "height": 809
        },
        "id": "t1P3QyFZy6Qt",
        "outputId": "4f4f2930-1668-4679-c637-66dc44cfa514"
      },
      "source": [
        "for name, model in models2:\n",
        "        base = model.fit(X_train,y_train)\n",
        "        y_pred = base.predict(X_test)\n",
        "        acc_score = accuracy_score(y_test, y_pred)\n",
        "        feature_imp = pd.Series(base.feature_importances_,\n",
        "                        index=X.columns).sort_values(ascending=False)\n",
        "\n",
        "        sns.barplot(x=feature_imp, y=feature_imp.index)\n",
        "        plt.title(name)\n",
        "        plt.show()"
      ],
      "execution_count": null,
      "outputs": [
        {
          "output_type": "display_data",
          "data": {
            "image/png": "[encoded data removed]",
            "text/plain": [
              "<Figure size 432x288 with 1 Axes>"
            ]
          },
          "metadata": {
            "tags": [],
            "needs_background": "light"
          }
        },
        {
          "output_type": "display_data",
          "data": {
            "image/png": "[encoded data removed]",
            "text/plain": [
              "<Figure size 432x288 with 1 Axes>"
            ]
          },
          "metadata": {
            "tags": [],
            "needs_background": "light"
          }
        },
        {
          "output_type": "display_data",
          "data": {
            "image/png": "[encoded data removed]",
            "text/plain": [
              "<Figure size 432x288 with 1 Axes>"
            ]
          },
          "metadata": {
            "tags": [],
            "needs_background": "light"
          }
        }
      ]
    },
    {
      "cell_type": "markdown",
      "metadata": {
        "id": "qD3_rZH7BbpJ"
      },
      "source": [
        "## **Final Conclusion**"
      ]
    },
    {
      "cell_type": "markdown",
      "metadata": {
        "id": "JF5kNPTBC3qY"
      },
      "source": [
        "**We're fitting our training data to LogicalRegression and making prediction on our test data.**\n",
        "\n",
        "**Accuracy of our model is around 79%, and that means 79/100 times we can make correct prediction**"
      ]
    },
    {
      "cell_type": "code",
      "metadata": {
        "colab": {
          "base_uri": "https://localhost:8080/"
        },
        "id": "KyxHMpgXccNt",
        "outputId": "c90b9fbc-b932-464e-b2dc-b66d30ecd470"
      },
      "source": [
        "final_model=[]\n",
        "final_model.append(('LR', LogisticRegression(random_state = 12345)))\n",
        "results=[]\n",
        "names=[]\n",
        "for name, model in final_model:\n",
        "        model.fit(X_train, y_train)\n",
        "        y_pred = model.predict(X_test)\n",
        "        accuracy = accuracy_score(y_test, y_pred)\n",
        "        msg = \"%s: (%f)\" % (name, accuracy)\n",
        "        print(msg)"
      ],
      "execution_count": null,
      "outputs": [
        {
          "output_type": "stream",
          "text": [
            "LR: (0.793953)\n"
          ],
          "name": "stdout"
        }
      ]
    },
    {
      "cell_type": "markdown",
      "metadata": {
        "id": "5liynUrmCJuv"
      },
      "source": [
        "**Confusion Matrix**"
      ]
    },
    {
      "cell_type": "code",
      "metadata": {
        "id": "LknZml9M2U2j"
      },
      "source": [
        "from sklearn.metrics import  accuracy_score, f1_score, precision_score,confusion_matrix, recall_score, roc_auc_score\n",
        "y_pred = model.predict(X_test)\n",
        "cm_LR = confusion_matrix(y_test, y_pred=y_pred)\n",
        "\n",
        "TP = cm_LR[1, 1]\n",
        "TN = cm_LR[0, 0]\n",
        "FP = cm_LR[0, 1]\n",
        "FN = cm_LR[1, 0]"
      ],
      "execution_count": null,
      "outputs": []
    },
    {
      "cell_type": "code",
      "metadata": {
        "id": "1E-sr3Sn2uQ_"
      },
      "source": [
        "from matplotlib import rc,rcParams\n",
        "def plot_confusion_matrix(cm, classes,\n",
        "                          title='Confusion matrix',\n",
        "                          cmap=plt.cm.Blues):\n",
        "\n",
        "    plt.rcParams.update({'font.size': 19})\n",
        "    plt.imshow(cm, interpolation='nearest', cmap=cmap)\n",
        "    plt.title(title,fontdict={'size':'16'})\n",
        "    plt.colorbar()\n",
        "    tick_marks = np.arange(len(classes))\n",
        "    plt.xticks(tick_marks, classes, rotation=45,fontsize=12,color=\"blue\")\n",
        "    plt.yticks(tick_marks, classes,fontsize=12,color=\"blue\")\n",
        "    rc('font', weight='bold')\n",
        "    fmt = '.1f'\n",
        "    thresh = cm.max()\n",
        "    for i, j in itertools.product(range(cm.shape[0]), range(cm.shape[1])):\n",
        "        plt.text(j, i, format(cm[i, j], fmt),\n",
        "                 horizontalalignment=\"center\",\n",
        "                 color=\"red\")\n",
        "\n",
        "    plt.ylabel('True label',fontdict={'size':'16'})\n",
        "    plt.xlabel('Predicted label',fontdict={'size':'16'})\n",
        "    plt.tight_layout()"
      ],
      "execution_count": null,
      "outputs": []
    },
    {
      "cell_type": "code",
      "metadata": {
        "colab": {
          "base_uri": "https://localhost:8080/",
          "height": 278
        },
        "id": "rZH-JSZ023jX",
        "outputId": "4466c290-086f-4525-f15d-5ed208f1bb9e"
      },
      "source": [
        "import itertools\n",
        "plot_confusion_matrix(confusion_matrix(y_test, y_pred=y_pred), classes=['Non Churn','Churn'],\n",
        "                      title='Confusion matrix')"
      ],
      "execution_count": null,
      "outputs": [
        {
          "output_type": "display_data",
          "data": {
            "image/png": "[encoded data removed]",
            "text/plain": [
              "<Figure size 432x288 with 2 Axes>"
            ]
          },
          "metadata": {
            "tags": [],
            "needs_background": "light"
          }
        }
      ]
    },
    {
      "cell_type": "code",
      "metadata": {
        "colab": {
          "base_uri": "https://localhost:8080/"
        },
        "id": "KjoHLz3j27br",
        "outputId": "0ffed70e-fc14-45bf-984b-13e8e326eaff"
      },
      "source": [
        "tn, fp, fn, tp = cm_LR.ravel()\n",
        "print(\"True Negatives: \",tn)\n",
        "print(\"False Positives: \",fp)\n",
        "print(\"False Negatives: \",fn)\n",
        "print(\"True Positives: \",tp)"
      ],
      "execution_count": null,
      "outputs": [
        {
          "output_type": "stream",
          "text": [
            "True Negatives:  1976\n",
            "False Positives:  237\n",
            "False Negatives:  390\n",
            "True Positives:  440\n"
          ],
          "name": "stdout"
        }
      ]
    },
    {
      "cell_type": "markdown",
      "metadata": {
        "id": "0onOaX3DCUYk"
      },
      "source": [
        " **ROC Curve**"
      ]
    },
    {
      "cell_type": "code",
      "metadata": {
        "colab": {
          "base_uri": "https://localhost:8080/",
          "height": 278
        },
        "id": "mKpr0Ih26Eo3",
        "outputId": "f1f34f22-c9b1-4bf5-ea73-f6498dd82c95"
      },
      "source": [
        "lbgm_tuned = model\n",
        "from sklearn.metrics import confusion_matrix, classification_report, roc_auc_score, precision_recall_curve, roc_curve, auc, average_precision_score\n",
        "y_pred_prob = lbgm_tuned.predict_proba(X_test)[:,1]\n",
        "fig, ax = plt.subplots()\n",
        "fpr, tpr, thresholds_roc = roc_curve(y_test, y_pred_prob)\n",
        "roc_auc = auc(fpr,tpr)\n",
        "ax.plot(fpr,tpr, label = \" area = {:0.2f}\".format(roc_auc))\n",
        "ax.plot([0,1], [0,1], 'r', linestyle = \"--\", lw = 2)\n",
        "ax.set_xlabel(\"False Positive Rate\", fontsize = 10)\n",
        "ax.set_ylabel(\"True Positive Rate\", fontsize = 10)\n",
        "ax.set_title(\"ROC Curve\", fontsize = 18)\n",
        "ax.legend(loc = 'best')\n",
        "\n",
        "close_default = np.argmin(np.abs(thresholds_roc - 0.5))\n",
        "ax.plot(fpr[close_default], tpr[close_default], 'o', markersize = 8)\n",
        "plt.tight_layout()\n"
      ],
      "execution_count": null,
      "outputs": [
        {
          "output_type": "display_data",
          "data": {
            "image/png": "[encoded data removed]",
            "text/plain": [
              "<Figure size 432x288 with 1 Axes>"
            ]
          },
          "metadata": {
            "tags": [],
            "needs_background": "light"
          }
        }
      ]
    },
    {
      "cell_type": "markdown",
      "metadata": {
        "id": "_ssGLR8rDp_J"
      },
      "source": [
        "## **Reporting**"
      ]
    },
    {
      "cell_type": "markdown",
      "metadata": {
        "id": "ngUnwc7pDKN9"
      },
      "source": [
        "The aim of this study was to create classification models for the churn dataset and to predict whether a person abandons us by creating models and to obtain maximum accuracy score in the established models. The work done is as follows:\n",
        "\n",
        "1) Churn Data Set read.\n",
        "\n",
        "2) With Exploratory Data Analysis; The data set's structural data were checked. The types of variables in the dataset were examined. Size information of the dataset was accessed. Descriptive statistics of the data set were examined. It was concluded that there were no missing observations and outliers in the data set.\n",
        "\n",
        "4) During Model Building; Logistic Regression, KNN, SVM, CART, Random Forests, XGBoost, LightGBM like using machine learning models Accuracy Score were calculated.\n",
        "\n",
        "5) Result; The model created as a result LogisticRegression became the model with the maxium Accuracy Score. (0.7939)"
      ]
    }
  ]
}